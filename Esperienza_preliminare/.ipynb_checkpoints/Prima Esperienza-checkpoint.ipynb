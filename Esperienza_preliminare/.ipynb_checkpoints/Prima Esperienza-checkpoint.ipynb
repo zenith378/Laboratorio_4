{
 "cells": [
  {
   "cell_type": "code",
   "execution_count": 2,
   "id": "9b78497f",
   "metadata": {},
   "outputs": [],
   "source": [
    "import numpy as np\n",
    "import pandas as pd\n",
    "import matplotlib.pyplot as plt\n"
   ]
  },
  {
   "cell_type": "code",
   "execution_count": 4,
   "id": "7a3ac338",
   "metadata": {},
   "outputs": [],
   "source": [
    "df_trig = pd.read_csv(\"./data/triggerfreq.txt\",sep=\"\\t\")\n"
   ]
  },
  {
   "cell_type": "code",
   "execution_count": 1,
   "id": "1e7e129b",
   "metadata": {},
   "outputs": [],
   "source": [
    "err_V=0.2*200"
   ]
  },
  {
   "cell_type": "code",
   "execution_count": 8,
   "id": "39a56894",
   "metadata": {},
   "outputs": [
    {
     "data": {
      "text/plain": [
       "40.0"
      ]
     },
     "execution_count": 8,
     "metadata": {},
     "output_type": "execute_result"
    }
   ],
   "source": [
    "err_V"
   ]
  },
  {
   "cell_type": "code",
   "execution_count": 63,
   "id": "7912b8b5",
   "metadata": {},
   "outputs": [
    {
     "name": "stdout",
     "output_type": "stream",
     "text": [
      "\\begin{tabular}{rr}\n",
      "\\toprule\n",
      " \\#thres &  freq \\\\\n",
      "\\midrule\n",
      "   -190 &    10 \\\\\n",
      "   -180 &    10 \\\\\n",
      "   -170 &    10 \\\\\n",
      "   -160 &    15 \\\\\n",
      "   -150 &    15 \\\\\n",
      "   -140 &    20 \\\\\n",
      "   -120 &    20 \\\\\n",
      "   -100 &    35 \\\\\n",
      "    -80 &    50 \\\\\n",
      "    -60 &    55 \\\\\n",
      "    -50 &    70 \\\\\n",
      "    -40 &    95 \\\\\n",
      "    -30 &   110 \\\\\n",
      "    -26 &   160 \\\\\n",
      "    -22 &   250 \\\\\n",
      "    -18 &   500 \\\\\n",
      "    -14 &  1000 \\\\\n",
      "    -10 &  2200 \\\\\n",
      "\\bottomrule\n",
      "\\end{tabular}\n",
      "\n"
     ]
    }
   ],
   "source": [
    "print(df_trig.to_latex(index=False))"
   ]
  },
  {
   "cell_type": "code",
   "execution_count": 64,
   "id": "bb65aa89",
   "metadata": {},
   "outputs": [
    {
     "data": {
      "image/png": "[encoded data removed]",
      "text/plain": [
       "<Figure size 432x288 with 1 Axes>"
      ]
     },
     "metadata": {
      "needs_background": "light"
     },
     "output_type": "display_data"
    }
   ],
   "source": [
    "fig=df_trig.plot(x='#thres',y='freq',\n",
    "             title='Frequency of trigger vs Threshold of trigger', \n",
    "             xlabel='Threshold voltage [mV]',ylabel='Trigger frequenzy [Hz]',style='.',\n",
    "             logy=True).get_figure()"
   ]
  },
  {
   "cell_type": "code",
   "execution_count": 65,
   "id": "dcdaf47e",
   "metadata": {},
   "outputs": [],
   "source": [
    "fig.savefig('./plots/frequency.pdf')"
   ]
  },
  {
   "cell_type": "code",
   "execution_count": 5,
   "id": "938d612b",
   "metadata": {},
   "outputs": [],
   "source": [
    "df_count = pd.read_csv(\"./data/counts.csv\",sep=\";\")"
   ]
  },
  {
   "cell_type": "code",
   "execution_count": 6,
   "id": "71fdf4ae",
   "metadata": {},
   "outputs": [],
   "source": [
    "df_count['err_V']=df_count['Alimentazione [V]']*0.0005+1"
   ]
  },
  {
   "cell_type": "code",
   "execution_count": 7,
   "id": "b884ed79",
   "metadata": {},
   "outputs": [
    {
     "data": {
      "text/html": [
       "<div>\n",
       "<style scoped>\n",
       "    .dataframe tbody tr th:only-of-type {\n",
       "        vertical-align: middle;\n",
       "    }\n",
       "\n",
       "    .dataframe tbody tr th {\n",
       "        vertical-align: top;\n",
       "    }\n",
       "\n",
       "    .dataframe thead th {\n",
       "        text-align: right;\n",
       "    }\n",
       "</style>\n",
       "<table border=\"1\" class=\"dataframe\">\n",
       "  <thead>\n",
       "    <tr style=\"text-align: right;\">\n",
       "      <th></th>\n",
       "      <th>Alimentazione [V]</th>\n",
       "      <th>PMT1</th>\n",
       "      <th>PMT2</th>\n",
       "      <th>PMT3</th>\n",
       "      <th>err_V</th>\n",
       "    </tr>\n",
       "  </thead>\n",
       "  <tbody>\n",
       "    <tr>\n",
       "      <th>0</th>\n",
       "      <td>1500</td>\n",
       "      <td>0</td>\n",
       "      <td>4</td>\n",
       "      <td>12</td>\n",
       "      <td>1.7500</td>\n",
       "    </tr>\n",
       "    <tr>\n",
       "      <th>1</th>\n",
       "      <td>1525</td>\n",
       "      <td>1</td>\n",
       "      <td>11</td>\n",
       "      <td>27</td>\n",
       "      <td>1.7625</td>\n",
       "    </tr>\n",
       "    <tr>\n",
       "      <th>2</th>\n",
       "      <td>1550</td>\n",
       "      <td>6</td>\n",
       "      <td>31</td>\n",
       "      <td>177</td>\n",
       "      <td>1.7750</td>\n",
       "    </tr>\n",
       "    <tr>\n",
       "      <th>3</th>\n",
       "      <td>1575</td>\n",
       "      <td>9</td>\n",
       "      <td>63</td>\n",
       "      <td>581</td>\n",
       "      <td>1.7875</td>\n",
       "    </tr>\n",
       "    <tr>\n",
       "      <th>4</th>\n",
       "      <td>1600</td>\n",
       "      <td>31</td>\n",
       "      <td>182</td>\n",
       "      <td>1298</td>\n",
       "      <td>1.8000</td>\n",
       "    </tr>\n",
       "    <tr>\n",
       "      <th>5</th>\n",
       "      <td>1625</td>\n",
       "      <td>63</td>\n",
       "      <td>292</td>\n",
       "      <td>1933</td>\n",
       "      <td>1.8125</td>\n",
       "    </tr>\n",
       "    <tr>\n",
       "      <th>6</th>\n",
       "      <td>1650</td>\n",
       "      <td>186</td>\n",
       "      <td>485</td>\n",
       "      <td>2849</td>\n",
       "      <td>1.8250</td>\n",
       "    </tr>\n",
       "    <tr>\n",
       "      <th>7</th>\n",
       "      <td>1675</td>\n",
       "      <td>364</td>\n",
       "      <td>826</td>\n",
       "      <td>5438</td>\n",
       "      <td>1.8375</td>\n",
       "    </tr>\n",
       "    <tr>\n",
       "      <th>8</th>\n",
       "      <td>1700</td>\n",
       "      <td>601</td>\n",
       "      <td>1111</td>\n",
       "      <td>23432</td>\n",
       "      <td>1.8500</td>\n",
       "    </tr>\n",
       "    <tr>\n",
       "      <th>9</th>\n",
       "      <td>1725</td>\n",
       "      <td>874</td>\n",
       "      <td>1883</td>\n",
       "      <td>60412</td>\n",
       "      <td>1.8625</td>\n",
       "    </tr>\n",
       "    <tr>\n",
       "      <th>10</th>\n",
       "      <td>1750</td>\n",
       "      <td>2077</td>\n",
       "      <td>4549</td>\n",
       "      <td>91147</td>\n",
       "      <td>1.8750</td>\n",
       "    </tr>\n",
       "    <tr>\n",
       "      <th>11</th>\n",
       "      <td>1775</td>\n",
       "      <td>10979</td>\n",
       "      <td>7787</td>\n",
       "      <td>118266</td>\n",
       "      <td>1.8875</td>\n",
       "    </tr>\n",
       "    <tr>\n",
       "      <th>12</th>\n",
       "      <td>1800</td>\n",
       "      <td>31783</td>\n",
       "      <td>10069</td>\n",
       "      <td>139454</td>\n",
       "      <td>1.9000</td>\n",
       "    </tr>\n",
       "    <tr>\n",
       "      <th>13</th>\n",
       "      <td>1825</td>\n",
       "      <td>50880</td>\n",
       "      <td>10793</td>\n",
       "      <td>164339</td>\n",
       "      <td>1.9125</td>\n",
       "    </tr>\n",
       "    <tr>\n",
       "      <th>14</th>\n",
       "      <td>1850</td>\n",
       "      <td>62821</td>\n",
       "      <td>11703</td>\n",
       "      <td>188011</td>\n",
       "      <td>1.9250</td>\n",
       "    </tr>\n",
       "    <tr>\n",
       "      <th>15</th>\n",
       "      <td>1875</td>\n",
       "      <td>69648</td>\n",
       "      <td>12665</td>\n",
       "      <td>231435</td>\n",
       "      <td>1.9375</td>\n",
       "    </tr>\n",
       "    <tr>\n",
       "      <th>16</th>\n",
       "      <td>1900</td>\n",
       "      <td>74396</td>\n",
       "      <td>13281</td>\n",
       "      <td>274960</td>\n",
       "      <td>1.9500</td>\n",
       "    </tr>\n",
       "    <tr>\n",
       "      <th>17</th>\n",
       "      <td>1925</td>\n",
       "      <td>77031</td>\n",
       "      <td>14377</td>\n",
       "      <td>344724</td>\n",
       "      <td>1.9625</td>\n",
       "    </tr>\n",
       "    <tr>\n",
       "      <th>18</th>\n",
       "      <td>1950</td>\n",
       "      <td>80927</td>\n",
       "      <td>15775</td>\n",
       "      <td>485614</td>\n",
       "      <td>1.9750</td>\n",
       "    </tr>\n",
       "    <tr>\n",
       "      <th>19</th>\n",
       "      <td>1975</td>\n",
       "      <td>88259</td>\n",
       "      <td>17174</td>\n",
       "      <td>663856</td>\n",
       "      <td>1.9875</td>\n",
       "    </tr>\n",
       "  </tbody>\n",
       "</table>\n",
       "</div>"
      ],
      "text/plain": [
       "    Alimentazione [V]   PMT1   PMT2    PMT3   err_V\n",
       "0                1500      0      4      12  1.7500\n",
       "1                1525      1     11      27  1.7625\n",
       "2                1550      6     31     177  1.7750\n",
       "3                1575      9     63     581  1.7875\n",
       "4                1600     31    182    1298  1.8000\n",
       "5                1625     63    292    1933  1.8125\n",
       "6                1650    186    485    2849  1.8250\n",
       "7                1675    364    826    5438  1.8375\n",
       "8                1700    601   1111   23432  1.8500\n",
       "9                1725    874   1883   60412  1.8625\n",
       "10               1750   2077   4549   91147  1.8750\n",
       "11               1775  10979   7787  118266  1.8875\n",
       "12               1800  31783  10069  139454  1.9000\n",
       "13               1825  50880  10793  164339  1.9125\n",
       "14               1850  62821  11703  188011  1.9250\n",
       "15               1875  69648  12665  231435  1.9375\n",
       "16               1900  74396  13281  274960  1.9500\n",
       "17               1925  77031  14377  344724  1.9625\n",
       "18               1950  80927  15775  485614  1.9750\n",
       "19               1975  88259  17174  663856  1.9875"
      ]
     },
     "execution_count": 7,
     "metadata": {},
     "output_type": "execute_result"
    }
   ],
   "source": [
    "df_count"
   ]
  },
  {
   "cell_type": "code",
   "execution_count": 55,
   "id": "fc211368",
   "metadata": {},
   "outputs": [
    {
     "data": {
      "image/png": "[encoded data removed]",
      "text/plain": [
       "<Figure size 432x288 with 1 Axes>"
      ]
     },
     "metadata": {
      "needs_background": "light"
     },
     "output_type": "display_data"
    }
   ],
   "source": [
    "fig_123=df_count.plot(x='Alimentazione [V]',y=['PMT1','PMT2','PMT3'],\n",
    "             title='Counts vs voltage source', \n",
    "             xlabel='Voltage source [v]',ylabel='Counts',\n",
    "            logy=True, style='.'\n",
    "             ).get_figure()"
   ]
  },
  {
   "cell_type": "code",
   "execution_count": 56,
   "id": "a017fe62",
   "metadata": {},
   "outputs": [],
   "source": [
    "fig_123.savefig('./plots/counts_123.pdf')"
   ]
  },
  {
   "cell_type": "code",
   "execution_count": 57,
   "id": "bc142004",
   "metadata": {},
   "outputs": [
    {
     "data": {
      "image/png": "[encoded data removed]",
      "text/plain": [
       "<Figure size 432x288 with 1 Axes>"
      ]
     },
     "metadata": {
      "needs_background": "light"
     },
     "output_type": "display_data"
    }
   ],
   "source": [
    "fig_12=df_count.plot(x='Alimentazione [V]',y=['PMT1','PMT2'],\n",
    "             title='Counts vs voltage source', \n",
    "             xlabel='Voltage source [v]',ylabel='Counts',style='.').get_figure()"
   ]
  },
  {
   "cell_type": "code",
   "execution_count": 58,
   "id": "7b5cb507",
   "metadata": {},
   "outputs": [],
   "source": [
    "fig_12.savefig('./plots/counts_12.pdf')"
   ]
  },
  {
   "cell_type": "code",
   "execution_count": 59,
   "id": "6ebfb40e",
   "metadata": {},
   "outputs": [
    {
     "data": {
      "image/png": "[encoded data removed]",
      "text/plain": [
       "<Figure size 432x288 with 1 Axes>"
      ]
     },
     "metadata": {
      "needs_background": "light"
     },
     "output_type": "display_data"
    }
   ],
   "source": [
    "fig_3=df_count.plot(x='Alimentazione [V]',y=['PMT3'],\n",
    "             title='Counts vs voltage source', \n",
    "             xlabel='Voltage source [v]',ylabel='Counts',style='.',color='green').get_figure()"
   ]
  },
  {
   "cell_type": "code",
   "execution_count": 60,
   "id": "97ee9b4e",
   "metadata": {},
   "outputs": [],
   "source": [
    "fig_3.savefig('./plots/counts_3.pdf')"
   ]
  },
  {
   "cell_type": "code",
   "execution_count": 66,
   "id": "ab873662",
   "metadata": {},
   "outputs": [
    {
     "name": "stdout",
     "output_type": "stream",
     "text": [
      "\\begin{tabular}{rrrr}\n",
      "\\toprule\n",
      " Alimentazione [V] &  PMT1 &  PMT2 &   PMT3 \\\\\n",
      "\\midrule\n",
      "              1500 &     0 &     4 &     12 \\\\\n",
      "              1525 &     1 &    11 &     27 \\\\\n",
      "              1550 &     6 &    31 &    177 \\\\\n",
      "              1575 &     9 &    63 &    581 \\\\\n",
      "              1600 &    31 &   182 &   1298 \\\\\n",
      "              1625 &    63 &   292 &   1933 \\\\\n",
      "              1650 &   186 &   485 &   2849 \\\\\n",
      "              1675 &   364 &   826 &   5438 \\\\\n",
      "              1700 &   601 &  1111 &  23432 \\\\\n",
      "              1725 &   874 &  1883 &  60412 \\\\\n",
      "              1750 &  2077 &  4549 &  91147 \\\\\n",
      "              1775 & 10979 &  7787 & 118266 \\\\\n",
      "              1800 & 31783 & 10069 & 139454 \\\\\n",
      "              1825 & 50880 & 10793 & 164339 \\\\\n",
      "              1850 & 62821 & 11703 & 188011 \\\\\n",
      "              1875 & 69648 & 12665 & 231435 \\\\\n",
      "              1900 & 74396 & 13281 & 274960 \\\\\n",
      "              1925 & 77031 & 14377 & 344724 \\\\\n",
      "              1950 & 80927 & 15775 & 485614 \\\\\n",
      "              1975 & 88259 & 17174 & 663856 \\\\\n",
      "\\bottomrule\n",
      "\\end{tabular}\n",
      "\n"
     ]
    }
   ],
   "source": [
    "print(df_count.to_latex(index=False))"
   ]
  },
  {
   "cell_type": "code",
   "execution_count": 47,
   "id": "59da21f9",
   "metadata": {},
   "outputs": [],
   "source": [
    "df_eff2 = pd.read_csv(\"./data/eff2.txt\",sep=\"\\t\")\n"
   ]
  },
  {
   "cell_type": "code",
   "execution_count": 48,
   "id": "7efd6667",
   "metadata": {},
   "outputs": [],
   "source": [
    "df_eff2['efficienza']=df_eff2['1&2&3']/df_eff2['1&3']\n",
    "df_eff2['err_V']=(df_eff2['V']*0.0005+1)*2\n",
    "df_eff2['err_eff']=np.sqrt(df_eff2['efficienza']*(1-df_eff2['efficienza'])/df_eff2['1&3'])*2"
   ]
  },
  {
   "cell_type": "code",
   "execution_count": 49,
   "id": "5c81877e",
   "metadata": {},
   "outputs": [
    {
     "data": {
      "image/png": "[encoded data removed]",
      "text/plain": [
       "<Figure size 432x288 with 1 Axes>"
      ]
     },
     "metadata": {
      "needs_background": "light"
     },
     "output_type": "display_data"
    }
   ],
   "source": [
    "fig_4=df_eff2.plot(x='V',y='efficienza',\n",
    "             title='Efficiency vs voltage source', \n",
    "             xlabel='Voltage source [v]',ylabel='Efficiency',xerr='err_V',yerr='err_eff',style='.',color='green',linestyle='None'\n",
    "                ).get_figure()"
   ]
  },
  {
   "cell_type": "code",
   "execution_count": 45,
   "id": "eb6e8932",
   "metadata": {},
   "outputs": [],
   "source": [
    "fig_4.savefig('./plots/eff_2.pdf')"
   ]
  },
  {
   "cell_type": "code",
   "execution_count": 52,
   "id": "d4ff8f50",
   "metadata": {},
   "outputs": [
    {
     "data": {
      "image/png": "[encoded data removed]",
      "text/plain": [
       "<Figure size 432x288 with 1 Axes>"
      ]
     },
     "metadata": {
      "needs_background": "light"
     },
     "output_type": "display_data"
    }
   ],
   "source": [
    "df_eff3 = pd.read_csv(\"./data/eff3.txt\",sep=\"\\t\")\n",
    "df_eff3['efficienza']=df_eff3['1&2&3']/df_eff3['1&2']\n",
    "df_eff3['err_V']=(df_eff3['V']*0.0005+1)*2\n",
    "df_eff3['err_eff']=np.sqrt(df_eff3['efficienza']*(1-df_eff3['efficienza'])/df_eff3['1&2'])*2\n",
    "fig_4=df_eff3.plot(x='V',y='efficienza',\n",
    "             title='Efficiency vs voltage source', \n",
    "             xlabel='Voltage source [v]',ylabel='Efficiency',xerr='err_V',yerr='err_eff',style='.',color='green',linestyle='None'\n",
    "                ).get_figure()"
   ]
  },
  {
   "cell_type": "code",
   "execution_count": null,
   "id": "57e5b64e",
   "metadata": {},
   "outputs": [],
   "source": [
    "df_eff1 = pd.read_csv(\"./data/eff1.txt\",sep=\"\\t\")\n",
    "df_eff1['efficienza']=df_eff1['1&2&3']/df_eff3['2&3']\n",
    "df_eff1['err_V']=(df_eff1['V']*0.0005+1)*2\n",
    "df_eff1['err_eff']=np.sqrt(df_eff1['efficienza']*(1-df_eff1['efficienza'])/df_eff1['2&3'])*2\n",
    "fig_4=df_eff1.plot(x='V',y='efficienza',\n",
    "             title='Efficiency vs voltage source', \n",
    "             xlabel='Voltage source [v]',ylabel='Efficiency',xerr='err_V',yerr='err_eff',style='.',color='green',linestyle='None'\n",
    "                ).get_figure()"
   ]
  }
 ],
 "metadata": {
  "kernelspec": {
   "display_name": "Python 3 (ipykernel)",
   "language": "python",
   "name": "python3"
  },
  "language_info": {
   "codemirror_mode": {
    "name": "ipython",
    "version": 3
   },
   "file_extension": ".py",
   "mimetype": "text/x-python",
   "name": "python",
   "nbconvert_exporter": "python",
   "pygments_lexer": "ipython3",
   "version": "3.9.4"
  }
 },
 "nbformat": 4,
 "nbformat_minor": 5
}
