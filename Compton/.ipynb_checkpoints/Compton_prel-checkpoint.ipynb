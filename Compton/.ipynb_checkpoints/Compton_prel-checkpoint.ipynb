{
 "cells": [
  {
   "cell_type": "code",
   "execution_count": 1,
   "id": "9b78497f",
   "metadata": {},
   "outputs": [],
   "source": [
    "import numpy as np\n",
    "import pandas as pd\n",
    "import matplotlib.pyplot as plt\n"
   ]
  },
  {
   "cell_type": "markdown",
   "id": "d60040b6",
   "metadata": {},
   "source": [
    "# Determinazione dell'asse (conteggi vs angolo)"
   ]
  },
  {
   "cell_type": "markdown",
   "id": "d6af5298",
   "metadata": {},
   "source": [
    "## Prima misura"
   ]
  },
  {
   "cell_type": "code",
   "execution_count": 5,
   "id": "7a3ac338",
   "metadata": {},
   "outputs": [],
   "source": [
    "df_asse = pd.read_csv(\"./data/asse.txt\",sep=\"\\t\")\n"
   ]
  },
  {
   "cell_type": "code",
   "execution_count": 3,
   "id": "1e7e129b",
   "metadata": {},
   "outputs": [],
   "source": [
    "err_angolo=1"
   ]
  },
  {
   "cell_type": "code",
   "execution_count": 4,
   "id": "39a56894",
   "metadata": {},
   "outputs": [
    {
     "data": {
      "text/plain": [
       "1"
      ]
     },
     "execution_count": 4,
     "metadata": {},
     "output_type": "execute_result"
    }
   ],
   "source": [
    "err_angolo"
   ]
  },
  {
   "cell_type": "code",
   "execution_count": 6,
   "id": "2cf18d43",
   "metadata": {},
   "outputs": [],
   "source": [
    "df_asse['err_ang']=err_angolo\n",
    "df_asse['err_cont']=np.sqrt(df_asse['Conteggi'])\n"
   ]
  },
  {
   "cell_type": "code",
   "execution_count": 7,
   "id": "093a3027",
   "metadata": {},
   "outputs": [
    {
     "data": {
      "text/html": [
       "<div>\n",
       "<style scoped>\n",
       "    .dataframe tbody tr th:only-of-type {\n",
       "        vertical-align: middle;\n",
       "    }\n",
       "\n",
       "    .dataframe tbody tr th {\n",
       "        vertical-align: top;\n",
       "    }\n",
       "\n",
       "    .dataframe thead th {\n",
       "        text-align: right;\n",
       "    }\n",
       "</style>\n",
       "<table border=\"1\" class=\"dataframe\">\n",
       "  <thead>\n",
       "    <tr style=\"text-align: right;\">\n",
       "      <th></th>\n",
       "      <th>Angolo</th>\n",
       "      <th>Conteggi</th>\n",
       "      <th>err_ang</th>\n",
       "      <th>err_cont</th>\n",
       "    </tr>\n",
       "  </thead>\n",
       "  <tbody>\n",
       "    <tr>\n",
       "      <th>0</th>\n",
       "      <td>80</td>\n",
       "      <td>31337</td>\n",
       "      <td>1</td>\n",
       "      <td>177.022597</td>\n",
       "    </tr>\n",
       "    <tr>\n",
       "      <th>1</th>\n",
       "      <td>81</td>\n",
       "      <td>38279</td>\n",
       "      <td>1</td>\n",
       "      <td>195.650198</td>\n",
       "    </tr>\n",
       "    <tr>\n",
       "      <th>2</th>\n",
       "      <td>82</td>\n",
       "      <td>54192</td>\n",
       "      <td>1</td>\n",
       "      <td>232.791752</td>\n",
       "    </tr>\n",
       "    <tr>\n",
       "      <th>3</th>\n",
       "      <td>83</td>\n",
       "      <td>77928</td>\n",
       "      <td>1</td>\n",
       "      <td>279.155870</td>\n",
       "    </tr>\n",
       "    <tr>\n",
       "      <th>4</th>\n",
       "      <td>84</td>\n",
       "      <td>111370</td>\n",
       "      <td>1</td>\n",
       "      <td>333.721441</td>\n",
       "    </tr>\n",
       "    <tr>\n",
       "      <th>5</th>\n",
       "      <td>85</td>\n",
       "      <td>145706</td>\n",
       "      <td>1</td>\n",
       "      <td>381.714553</td>\n",
       "    </tr>\n",
       "    <tr>\n",
       "      <th>6</th>\n",
       "      <td>86</td>\n",
       "      <td>187831</td>\n",
       "      <td>1</td>\n",
       "      <td>433.394739</td>\n",
       "    </tr>\n",
       "    <tr>\n",
       "      <th>7</th>\n",
       "      <td>87</td>\n",
       "      <td>228386</td>\n",
       "      <td>1</td>\n",
       "      <td>477.897479</td>\n",
       "    </tr>\n",
       "    <tr>\n",
       "      <th>8</th>\n",
       "      <td>88</td>\n",
       "      <td>252541</td>\n",
       "      <td>1</td>\n",
       "      <td>502.534576</td>\n",
       "    </tr>\n",
       "    <tr>\n",
       "      <th>9</th>\n",
       "      <td>89</td>\n",
       "      <td>272752</td>\n",
       "      <td>1</td>\n",
       "      <td>522.256642</td>\n",
       "    </tr>\n",
       "    <tr>\n",
       "      <th>10</th>\n",
       "      <td>90</td>\n",
       "      <td>283083</td>\n",
       "      <td>1</td>\n",
       "      <td>532.055448</td>\n",
       "    </tr>\n",
       "    <tr>\n",
       "      <th>11</th>\n",
       "      <td>91</td>\n",
       "      <td>285097</td>\n",
       "      <td>1</td>\n",
       "      <td>533.944754</td>\n",
       "    </tr>\n",
       "    <tr>\n",
       "      <th>12</th>\n",
       "      <td>92</td>\n",
       "      <td>286170</td>\n",
       "      <td>1</td>\n",
       "      <td>534.948596</td>\n",
       "    </tr>\n",
       "    <tr>\n",
       "      <th>13</th>\n",
       "      <td>93</td>\n",
       "      <td>287894</td>\n",
       "      <td>1</td>\n",
       "      <td>536.557546</td>\n",
       "    </tr>\n",
       "    <tr>\n",
       "      <th>14</th>\n",
       "      <td>94</td>\n",
       "      <td>286610</td>\n",
       "      <td>1</td>\n",
       "      <td>535.359692</td>\n",
       "    </tr>\n",
       "    <tr>\n",
       "      <th>15</th>\n",
       "      <td>95</td>\n",
       "      <td>285673</td>\n",
       "      <td>1</td>\n",
       "      <td>534.483863</td>\n",
       "    </tr>\n",
       "    <tr>\n",
       "      <th>16</th>\n",
       "      <td>96</td>\n",
       "      <td>280599</td>\n",
       "      <td>1</td>\n",
       "      <td>529.715962</td>\n",
       "    </tr>\n",
       "    <tr>\n",
       "      <th>17</th>\n",
       "      <td>97</td>\n",
       "      <td>266907</td>\n",
       "      <td>1</td>\n",
       "      <td>516.630429</td>\n",
       "    </tr>\n",
       "    <tr>\n",
       "      <th>18</th>\n",
       "      <td>98</td>\n",
       "      <td>239386</td>\n",
       "      <td>1</td>\n",
       "      <td>489.270886</td>\n",
       "    </tr>\n",
       "    <tr>\n",
       "      <th>19</th>\n",
       "      <td>99</td>\n",
       "      <td>207186</td>\n",
       "      <td>1</td>\n",
       "      <td>455.176889</td>\n",
       "    </tr>\n",
       "    <tr>\n",
       "      <th>20</th>\n",
       "      <td>100</td>\n",
       "      <td>173801</td>\n",
       "      <td>1</td>\n",
       "      <td>416.894471</td>\n",
       "    </tr>\n",
       "  </tbody>\n",
       "</table>\n",
       "</div>"
      ],
      "text/plain": [
       "    Angolo  Conteggi  err_ang    err_cont\n",
       "0       80     31337        1  177.022597\n",
       "1       81     38279        1  195.650198\n",
       "2       82     54192        1  232.791752\n",
       "3       83     77928        1  279.155870\n",
       "4       84    111370        1  333.721441\n",
       "5       85    145706        1  381.714553\n",
       "6       86    187831        1  433.394739\n",
       "7       87    228386        1  477.897479\n",
       "8       88    252541        1  502.534576\n",
       "9       89    272752        1  522.256642\n",
       "10      90    283083        1  532.055448\n",
       "11      91    285097        1  533.944754\n",
       "12      92    286170        1  534.948596\n",
       "13      93    287894        1  536.557546\n",
       "14      94    286610        1  535.359692\n",
       "15      95    285673        1  534.483863\n",
       "16      96    280599        1  529.715962\n",
       "17      97    266907        1  516.630429\n",
       "18      98    239386        1  489.270886\n",
       "19      99    207186        1  455.176889\n",
       "20     100    173801        1  416.894471"
      ]
     },
     "execution_count": 7,
     "metadata": {},
     "output_type": "execute_result"
    }
   ],
   "source": [
    "df_asse"
   ]
  },
  {
   "cell_type": "code",
   "execution_count": 10,
   "id": "36294251",
   "metadata": {},
   "outputs": [
    {
     "data": {
      "image/png": "[encoded data removed]",
      "text/plain": [
       "<Figure size 432x288 with 1 Axes>"
      ]
     },
     "metadata": {
      "needs_background": "light"
     },
     "output_type": "display_data"
    }
   ],
   "source": [
    "plt.errorbar(df_asse['Angolo'],df_asse['Conteggi'],\n",
    "             xerr=df_asse['err_ang'],yerr=df_asse['err_cont'],linestyle='None',elinewidth=1)\n",
    "#plt.yscale('log')\n",
    "plt.xlabel('Angle [degree]')\n",
    "plt.ylabel('Counts [Hz]')\n",
    "plt.title('Counts vs angle')\n",
    "plt.savefig('./plots/asse.pdf')"
   ]
  },
  {
   "cell_type": "code",
   "execution_count": 212,
   "id": "94d60dc3",
   "metadata": {},
   "outputs": [],
   "source": [
    "df_trigger_print=df_trigger.copy()"
   ]
  },
  {
   "cell_type": "code",
   "execution_count": 213,
   "id": "24068be8",
   "metadata": {},
   "outputs": [],
   "source": [
    "df_trigger_print[\"V\"] = df_trigger[\"V\"].astype(str) + '±' + df_trigger[\"err_v\"].round(0).astype(int).astype(str)\n",
    "df_trigger_print['freq']=df_trigger[\"freq\"].astype(str) + '±' + df_trigger[\"err_freq\"].round(1).astype(str)\n",
    "df_trigger_print.drop(['v/div','min freq','max freq', 'err_v','err_freq'],axis=1,inplace=True)"
   ]
  },
  {
   "cell_type": "code",
   "execution_count": 214,
   "id": "815b3659",
   "metadata": {},
   "outputs": [
    {
     "name": "stdout",
     "output_type": "stream",
     "text": [
      "\\begin{tabular}{ll}\n",
      "\\toprule\n",
      "      V &         freq \\\\\n",
      "\\midrule\n",
      "-190±10 &      9.0±9.0 \\\\\n",
      "-180±10 &    12.5±12.5 \\\\\n",
      "-170±10 &    14.5±14.5 \\\\\n",
      "-160±10 &    23.0±23.0 \\\\\n",
      " -150±4 &    35.0±22.0 \\\\\n",
      " -140±4 &    38.5±25.5 \\\\\n",
      " -130±4 &    39.5±23.5 \\\\\n",
      " -120±4 &    43.0±24.0 \\\\\n",
      " -110±4 &    50.0±26.0 \\\\\n",
      " -100±4 &    69.0±41.0 \\\\\n",
      "  -90±2 &    68.0±34.0 \\\\\n",
      "  -80±2 &    77.5±34.5 \\\\\n",
      "  -70±2 &    95.0±48.0 \\\\\n",
      "  -60±2 &   103.5±55.5 \\\\\n",
      "  -50±2 &   110.0±65.0 \\\\\n",
      "  -40±2 &   200.5±69.5 \\\\\n",
      "  -30±1 & 1380.0±140.0 \\\\\n",
      "  -20±1 & 4300.0±400.0 \\\\\n",
      "  -15±1 & 5800.0±330.0 \\\\\n",
      "  -10±1 & 7000.0±500.0 \\\\\n",
      "\\bottomrule\n",
      "\\end{tabular}\n",
      "\n"
     ]
    }
   ],
   "source": [
    "print(df_trigger_print.to_latex(index=False))"
   ]
  },
  {
   "cell_type": "markdown",
   "id": "ea78e8cc",
   "metadata": {},
   "source": [
    "# Distanza da sorgente"
   ]
  },
  {
   "cell_type": "code",
   "execution_count": 14,
   "id": "938d612b",
   "metadata": {},
   "outputs": [
    {
     "ename": "FileNotFoundError",
     "evalue": "[Errno 2] No such file or directory: './data/distanza_PMT1.csv'",
     "output_type": "error",
     "traceback": [
      "\u001b[0;31m---------------------------------------------------------------------------\u001b[0m",
      "\u001b[0;31mFileNotFoundError\u001b[0m                         Traceback (most recent call last)",
      "Input \u001b[0;32mIn [14]\u001b[0m, in \u001b[0;36m<module>\u001b[0;34m\u001b[0m\n\u001b[0;32m----> 1\u001b[0m df_dist \u001b[38;5;241m=\u001b[39m \u001b[43mpd\u001b[49m\u001b[38;5;241;43m.\u001b[39;49m\u001b[43mread_csv\u001b[49m\u001b[43m(\u001b[49m\u001b[38;5;124;43m\"\u001b[39;49m\u001b[38;5;124;43m./data/distanza_PMT1.csv\u001b[39;49m\u001b[38;5;124;43m\"\u001b[39;49m\u001b[43m,\u001b[49m\u001b[43msep\u001b[49m\u001b[38;5;241;43m=\u001b[39;49m\u001b[38;5;124;43m\"\u001b[39;49m\u001b[38;5;124;43m;\u001b[39;49m\u001b[38;5;124;43m\"\u001b[39;49m\u001b[43m)\u001b[49m\n",
      "File \u001b[0;32m/usr/local/lib/python3.9/site-packages/pandas/util/_decorators.py:311\u001b[0m, in \u001b[0;36mdeprecate_nonkeyword_arguments.<locals>.decorate.<locals>.wrapper\u001b[0;34m(*args, **kwargs)\u001b[0m\n\u001b[1;32m    305\u001b[0m \u001b[38;5;28;01mif\u001b[39;00m \u001b[38;5;28mlen\u001b[39m(args) \u001b[38;5;241m>\u001b[39m num_allow_args:\n\u001b[1;32m    306\u001b[0m     warnings\u001b[38;5;241m.\u001b[39mwarn(\n\u001b[1;32m    307\u001b[0m         msg\u001b[38;5;241m.\u001b[39mformat(arguments\u001b[38;5;241m=\u001b[39marguments),\n\u001b[1;32m    308\u001b[0m         \u001b[38;5;167;01mFutureWarning\u001b[39;00m,\n\u001b[1;32m    309\u001b[0m         stacklevel\u001b[38;5;241m=\u001b[39mstacklevel,\n\u001b[1;32m    310\u001b[0m     )\n\u001b[0;32m--> 311\u001b[0m \u001b[38;5;28;01mreturn\u001b[39;00m \u001b[43mfunc\u001b[49m\u001b[43m(\u001b[49m\u001b[38;5;241;43m*\u001b[39;49m\u001b[43margs\u001b[49m\u001b[43m,\u001b[49m\u001b[43m \u001b[49m\u001b[38;5;241;43m*\u001b[39;49m\u001b[38;5;241;43m*\u001b[39;49m\u001b[43mkwargs\u001b[49m\u001b[43m)\u001b[49m\n",
      "File \u001b[0;32m/usr/local/lib/python3.9/site-packages/pandas/io/parsers/readers.py:586\u001b[0m, in \u001b[0;36mread_csv\u001b[0;34m(filepath_or_buffer, sep, delimiter, header, names, index_col, usecols, squeeze, prefix, mangle_dupe_cols, dtype, engine, converters, true_values, false_values, skipinitialspace, skiprows, skipfooter, nrows, na_values, keep_default_na, na_filter, verbose, skip_blank_lines, parse_dates, infer_datetime_format, keep_date_col, date_parser, dayfirst, cache_dates, iterator, chunksize, compression, thousands, decimal, lineterminator, quotechar, quoting, doublequote, escapechar, comment, encoding, encoding_errors, dialect, error_bad_lines, warn_bad_lines, on_bad_lines, delim_whitespace, low_memory, memory_map, float_precision, storage_options)\u001b[0m\n\u001b[1;32m    571\u001b[0m kwds_defaults \u001b[38;5;241m=\u001b[39m _refine_defaults_read(\n\u001b[1;32m    572\u001b[0m     dialect,\n\u001b[1;32m    573\u001b[0m     delimiter,\n\u001b[0;32m   (...)\u001b[0m\n\u001b[1;32m    582\u001b[0m     defaults\u001b[38;5;241m=\u001b[39m{\u001b[38;5;124m\"\u001b[39m\u001b[38;5;124mdelimiter\u001b[39m\u001b[38;5;124m\"\u001b[39m: \u001b[38;5;124m\"\u001b[39m\u001b[38;5;124m,\u001b[39m\u001b[38;5;124m\"\u001b[39m},\n\u001b[1;32m    583\u001b[0m )\n\u001b[1;32m    584\u001b[0m kwds\u001b[38;5;241m.\u001b[39mupdate(kwds_defaults)\n\u001b[0;32m--> 586\u001b[0m \u001b[38;5;28;01mreturn\u001b[39;00m \u001b[43m_read\u001b[49m\u001b[43m(\u001b[49m\u001b[43mfilepath_or_buffer\u001b[49m\u001b[43m,\u001b[49m\u001b[43m \u001b[49m\u001b[43mkwds\u001b[49m\u001b[43m)\u001b[49m\n",
      "File \u001b[0;32m/usr/local/lib/python3.9/site-packages/pandas/io/parsers/readers.py:482\u001b[0m, in \u001b[0;36m_read\u001b[0;34m(filepath_or_buffer, kwds)\u001b[0m\n\u001b[1;32m    479\u001b[0m _validate_names(kwds\u001b[38;5;241m.\u001b[39mget(\u001b[38;5;124m\"\u001b[39m\u001b[38;5;124mnames\u001b[39m\u001b[38;5;124m\"\u001b[39m, \u001b[38;5;28;01mNone\u001b[39;00m))\n\u001b[1;32m    481\u001b[0m \u001b[38;5;66;03m# Create the parser.\u001b[39;00m\n\u001b[0;32m--> 482\u001b[0m parser \u001b[38;5;241m=\u001b[39m \u001b[43mTextFileReader\u001b[49m\u001b[43m(\u001b[49m\u001b[43mfilepath_or_buffer\u001b[49m\u001b[43m,\u001b[49m\u001b[43m \u001b[49m\u001b[38;5;241;43m*\u001b[39;49m\u001b[38;5;241;43m*\u001b[39;49m\u001b[43mkwds\u001b[49m\u001b[43m)\u001b[49m\n\u001b[1;32m    484\u001b[0m \u001b[38;5;28;01mif\u001b[39;00m chunksize \u001b[38;5;129;01mor\u001b[39;00m iterator:\n\u001b[1;32m    485\u001b[0m     \u001b[38;5;28;01mreturn\u001b[39;00m parser\n",
      "File \u001b[0;32m/usr/local/lib/python3.9/site-packages/pandas/io/parsers/readers.py:811\u001b[0m, in \u001b[0;36mTextFileReader.__init__\u001b[0;34m(self, f, engine, **kwds)\u001b[0m\n\u001b[1;32m    808\u001b[0m \u001b[38;5;28;01mif\u001b[39;00m \u001b[38;5;124m\"\u001b[39m\u001b[38;5;124mhas_index_names\u001b[39m\u001b[38;5;124m\"\u001b[39m \u001b[38;5;129;01min\u001b[39;00m kwds:\n\u001b[1;32m    809\u001b[0m     \u001b[38;5;28mself\u001b[39m\u001b[38;5;241m.\u001b[39moptions[\u001b[38;5;124m\"\u001b[39m\u001b[38;5;124mhas_index_names\u001b[39m\u001b[38;5;124m\"\u001b[39m] \u001b[38;5;241m=\u001b[39m kwds[\u001b[38;5;124m\"\u001b[39m\u001b[38;5;124mhas_index_names\u001b[39m\u001b[38;5;124m\"\u001b[39m]\n\u001b[0;32m--> 811\u001b[0m \u001b[38;5;28mself\u001b[39m\u001b[38;5;241m.\u001b[39m_engine \u001b[38;5;241m=\u001b[39m \u001b[38;5;28;43mself\u001b[39;49m\u001b[38;5;241;43m.\u001b[39;49m\u001b[43m_make_engine\u001b[49m\u001b[43m(\u001b[49m\u001b[38;5;28;43mself\u001b[39;49m\u001b[38;5;241;43m.\u001b[39;49m\u001b[43mengine\u001b[49m\u001b[43m)\u001b[49m\n",
      "File \u001b[0;32m/usr/local/lib/python3.9/site-packages/pandas/io/parsers/readers.py:1040\u001b[0m, in \u001b[0;36mTextFileReader._make_engine\u001b[0;34m(self, engine)\u001b[0m\n\u001b[1;32m   1036\u001b[0m     \u001b[38;5;28;01mraise\u001b[39;00m \u001b[38;5;167;01mValueError\u001b[39;00m(\n\u001b[1;32m   1037\u001b[0m         \u001b[38;5;124mf\u001b[39m\u001b[38;5;124m\"\u001b[39m\u001b[38;5;124mUnknown engine: \u001b[39m\u001b[38;5;132;01m{\u001b[39;00mengine\u001b[38;5;132;01m}\u001b[39;00m\u001b[38;5;124m (valid options are \u001b[39m\u001b[38;5;132;01m{\u001b[39;00mmapping\u001b[38;5;241m.\u001b[39mkeys()\u001b[38;5;132;01m}\u001b[39;00m\u001b[38;5;124m)\u001b[39m\u001b[38;5;124m\"\u001b[39m\n\u001b[1;32m   1038\u001b[0m     )\n\u001b[1;32m   1039\u001b[0m \u001b[38;5;66;03m# error: Too many arguments for \"ParserBase\"\u001b[39;00m\n\u001b[0;32m-> 1040\u001b[0m \u001b[38;5;28;01mreturn\u001b[39;00m \u001b[43mmapping\u001b[49m\u001b[43m[\u001b[49m\u001b[43mengine\u001b[49m\u001b[43m]\u001b[49m\u001b[43m(\u001b[49m\u001b[38;5;28;43mself\u001b[39;49m\u001b[38;5;241;43m.\u001b[39;49m\u001b[43mf\u001b[49m\u001b[43m,\u001b[49m\u001b[43m \u001b[49m\u001b[38;5;241;43m*\u001b[39;49m\u001b[38;5;241;43m*\u001b[39;49m\u001b[38;5;28;43mself\u001b[39;49m\u001b[38;5;241;43m.\u001b[39;49m\u001b[43moptions\u001b[49m\u001b[43m)\u001b[49m\n",
      "File \u001b[0;32m/usr/local/lib/python3.9/site-packages/pandas/io/parsers/c_parser_wrapper.py:51\u001b[0m, in \u001b[0;36mCParserWrapper.__init__\u001b[0;34m(self, src, **kwds)\u001b[0m\n\u001b[1;32m     48\u001b[0m kwds[\u001b[38;5;124m\"\u001b[39m\u001b[38;5;124musecols\u001b[39m\u001b[38;5;124m\"\u001b[39m] \u001b[38;5;241m=\u001b[39m \u001b[38;5;28mself\u001b[39m\u001b[38;5;241m.\u001b[39musecols\n\u001b[1;32m     50\u001b[0m \u001b[38;5;66;03m# open handles\u001b[39;00m\n\u001b[0;32m---> 51\u001b[0m \u001b[38;5;28;43mself\u001b[39;49m\u001b[38;5;241;43m.\u001b[39;49m\u001b[43m_open_handles\u001b[49m\u001b[43m(\u001b[49m\u001b[43msrc\u001b[49m\u001b[43m,\u001b[49m\u001b[43m \u001b[49m\u001b[43mkwds\u001b[49m\u001b[43m)\u001b[49m\n\u001b[1;32m     52\u001b[0m \u001b[38;5;28;01massert\u001b[39;00m \u001b[38;5;28mself\u001b[39m\u001b[38;5;241m.\u001b[39mhandles \u001b[38;5;129;01mis\u001b[39;00m \u001b[38;5;129;01mnot\u001b[39;00m \u001b[38;5;28;01mNone\u001b[39;00m\n\u001b[1;32m     54\u001b[0m \u001b[38;5;66;03m# Have to pass int, would break tests using TextReader directly otherwise :(\u001b[39;00m\n",
      "File \u001b[0;32m/usr/local/lib/python3.9/site-packages/pandas/io/parsers/base_parser.py:222\u001b[0m, in \u001b[0;36mParserBase._open_handles\u001b[0;34m(self, src, kwds)\u001b[0m\n\u001b[1;32m    218\u001b[0m \u001b[38;5;28;01mdef\u001b[39;00m \u001b[38;5;21m_open_handles\u001b[39m(\u001b[38;5;28mself\u001b[39m, src: FilePathOrBuffer, kwds: \u001b[38;5;28mdict\u001b[39m[\u001b[38;5;28mstr\u001b[39m, Any]) \u001b[38;5;241m-\u001b[39m\u001b[38;5;241m>\u001b[39m \u001b[38;5;28;01mNone\u001b[39;00m:\n\u001b[1;32m    219\u001b[0m     \u001b[38;5;124;03m\"\"\"\u001b[39;00m\n\u001b[1;32m    220\u001b[0m \u001b[38;5;124;03m    Let the readers open IOHandles after they are done with their potential raises.\u001b[39;00m\n\u001b[1;32m    221\u001b[0m \u001b[38;5;124;03m    \"\"\"\u001b[39;00m\n\u001b[0;32m--> 222\u001b[0m     \u001b[38;5;28mself\u001b[39m\u001b[38;5;241m.\u001b[39mhandles \u001b[38;5;241m=\u001b[39m \u001b[43mget_handle\u001b[49m\u001b[43m(\u001b[49m\n\u001b[1;32m    223\u001b[0m \u001b[43m        \u001b[49m\u001b[43msrc\u001b[49m\u001b[43m,\u001b[49m\n\u001b[1;32m    224\u001b[0m \u001b[43m        \u001b[49m\u001b[38;5;124;43m\"\u001b[39;49m\u001b[38;5;124;43mr\u001b[39;49m\u001b[38;5;124;43m\"\u001b[39;49m\u001b[43m,\u001b[49m\n\u001b[1;32m    225\u001b[0m \u001b[43m        \u001b[49m\u001b[43mencoding\u001b[49m\u001b[38;5;241;43m=\u001b[39;49m\u001b[43mkwds\u001b[49m\u001b[38;5;241;43m.\u001b[39;49m\u001b[43mget\u001b[49m\u001b[43m(\u001b[49m\u001b[38;5;124;43m\"\u001b[39;49m\u001b[38;5;124;43mencoding\u001b[39;49m\u001b[38;5;124;43m\"\u001b[39;49m\u001b[43m,\u001b[49m\u001b[43m \u001b[49m\u001b[38;5;28;43;01mNone\u001b[39;49;00m\u001b[43m)\u001b[49m\u001b[43m,\u001b[49m\n\u001b[1;32m    226\u001b[0m \u001b[43m        \u001b[49m\u001b[43mcompression\u001b[49m\u001b[38;5;241;43m=\u001b[39;49m\u001b[43mkwds\u001b[49m\u001b[38;5;241;43m.\u001b[39;49m\u001b[43mget\u001b[49m\u001b[43m(\u001b[49m\u001b[38;5;124;43m\"\u001b[39;49m\u001b[38;5;124;43mcompression\u001b[39;49m\u001b[38;5;124;43m\"\u001b[39;49m\u001b[43m,\u001b[49m\u001b[43m \u001b[49m\u001b[38;5;28;43;01mNone\u001b[39;49;00m\u001b[43m)\u001b[49m\u001b[43m,\u001b[49m\n\u001b[1;32m    227\u001b[0m \u001b[43m        \u001b[49m\u001b[43mmemory_map\u001b[49m\u001b[38;5;241;43m=\u001b[39;49m\u001b[43mkwds\u001b[49m\u001b[38;5;241;43m.\u001b[39;49m\u001b[43mget\u001b[49m\u001b[43m(\u001b[49m\u001b[38;5;124;43m\"\u001b[39;49m\u001b[38;5;124;43mmemory_map\u001b[39;49m\u001b[38;5;124;43m\"\u001b[39;49m\u001b[43m,\u001b[49m\u001b[43m \u001b[49m\u001b[38;5;28;43;01mFalse\u001b[39;49;00m\u001b[43m)\u001b[49m\u001b[43m,\u001b[49m\n\u001b[1;32m    228\u001b[0m \u001b[43m        \u001b[49m\u001b[43mstorage_options\u001b[49m\u001b[38;5;241;43m=\u001b[39;49m\u001b[43mkwds\u001b[49m\u001b[38;5;241;43m.\u001b[39;49m\u001b[43mget\u001b[49m\u001b[43m(\u001b[49m\u001b[38;5;124;43m\"\u001b[39;49m\u001b[38;5;124;43mstorage_options\u001b[39;49m\u001b[38;5;124;43m\"\u001b[39;49m\u001b[43m,\u001b[49m\u001b[43m \u001b[49m\u001b[38;5;28;43;01mNone\u001b[39;49;00m\u001b[43m)\u001b[49m\u001b[43m,\u001b[49m\n\u001b[1;32m    229\u001b[0m \u001b[43m        \u001b[49m\u001b[43merrors\u001b[49m\u001b[38;5;241;43m=\u001b[39;49m\u001b[43mkwds\u001b[49m\u001b[38;5;241;43m.\u001b[39;49m\u001b[43mget\u001b[49m\u001b[43m(\u001b[49m\u001b[38;5;124;43m\"\u001b[39;49m\u001b[38;5;124;43mencoding_errors\u001b[39;49m\u001b[38;5;124;43m\"\u001b[39;49m\u001b[43m,\u001b[49m\u001b[43m \u001b[49m\u001b[38;5;124;43m\"\u001b[39;49m\u001b[38;5;124;43mstrict\u001b[39;49m\u001b[38;5;124;43m\"\u001b[39;49m\u001b[43m)\u001b[49m\u001b[43m,\u001b[49m\n\u001b[1;32m    230\u001b[0m \u001b[43m    \u001b[49m\u001b[43m)\u001b[49m\n",
      "File \u001b[0;32m/usr/local/lib/python3.9/site-packages/pandas/io/common.py:702\u001b[0m, in \u001b[0;36mget_handle\u001b[0;34m(path_or_buf, mode, encoding, compression, memory_map, is_text, errors, storage_options)\u001b[0m\n\u001b[1;32m    697\u001b[0m \u001b[38;5;28;01melif\u001b[39;00m \u001b[38;5;28misinstance\u001b[39m(handle, \u001b[38;5;28mstr\u001b[39m):\n\u001b[1;32m    698\u001b[0m     \u001b[38;5;66;03m# Check whether the filename is to be opened in binary mode.\u001b[39;00m\n\u001b[1;32m    699\u001b[0m     \u001b[38;5;66;03m# Binary mode does not support 'encoding' and 'newline'.\u001b[39;00m\n\u001b[1;32m    700\u001b[0m     \u001b[38;5;28;01mif\u001b[39;00m ioargs\u001b[38;5;241m.\u001b[39mencoding \u001b[38;5;129;01mand\u001b[39;00m \u001b[38;5;124m\"\u001b[39m\u001b[38;5;124mb\u001b[39m\u001b[38;5;124m\"\u001b[39m \u001b[38;5;129;01mnot\u001b[39;00m \u001b[38;5;129;01min\u001b[39;00m ioargs\u001b[38;5;241m.\u001b[39mmode:\n\u001b[1;32m    701\u001b[0m         \u001b[38;5;66;03m# Encoding\u001b[39;00m\n\u001b[0;32m--> 702\u001b[0m         handle \u001b[38;5;241m=\u001b[39m \u001b[38;5;28;43mopen\u001b[39;49m\u001b[43m(\u001b[49m\n\u001b[1;32m    703\u001b[0m \u001b[43m            \u001b[49m\u001b[43mhandle\u001b[49m\u001b[43m,\u001b[49m\n\u001b[1;32m    704\u001b[0m \u001b[43m            \u001b[49m\u001b[43mioargs\u001b[49m\u001b[38;5;241;43m.\u001b[39;49m\u001b[43mmode\u001b[49m\u001b[43m,\u001b[49m\n\u001b[1;32m    705\u001b[0m \u001b[43m            \u001b[49m\u001b[43mencoding\u001b[49m\u001b[38;5;241;43m=\u001b[39;49m\u001b[43mioargs\u001b[49m\u001b[38;5;241;43m.\u001b[39;49m\u001b[43mencoding\u001b[49m\u001b[43m,\u001b[49m\n\u001b[1;32m    706\u001b[0m \u001b[43m            \u001b[49m\u001b[43merrors\u001b[49m\u001b[38;5;241;43m=\u001b[39;49m\u001b[43merrors\u001b[49m\u001b[43m,\u001b[49m\n\u001b[1;32m    707\u001b[0m \u001b[43m            \u001b[49m\u001b[43mnewline\u001b[49m\u001b[38;5;241;43m=\u001b[39;49m\u001b[38;5;124;43m\"\u001b[39;49m\u001b[38;5;124;43m\"\u001b[39;49m\u001b[43m,\u001b[49m\n\u001b[1;32m    708\u001b[0m \u001b[43m        \u001b[49m\u001b[43m)\u001b[49m\n\u001b[1;32m    709\u001b[0m     \u001b[38;5;28;01melse\u001b[39;00m:\n\u001b[1;32m    710\u001b[0m         \u001b[38;5;66;03m# Binary mode\u001b[39;00m\n\u001b[1;32m    711\u001b[0m         handle \u001b[38;5;241m=\u001b[39m \u001b[38;5;28mopen\u001b[39m(handle, ioargs\u001b[38;5;241m.\u001b[39mmode)\n",
      "\u001b[0;31mFileNotFoundError\u001b[0m: [Errno 2] No such file or directory: './data/distanza_PMT1.csv'"
     ]
    }
   ],
   "source": [
    "df_dist = pd.read_csv(\"./data/distanza_PMT1.txt\",sep=\";\")"
   ]
  },
  {
   "cell_type": "code",
   "execution_count": 12,
   "id": "71fdf4ae",
   "metadata": {},
   "outputs": [],
   "source": [
    "err_dist=0.1"
   ]
  },
  {
   "cell_type": "code",
   "execution_count": 13,
   "id": "b884ed79",
   "metadata": {},
   "outputs": [
    {
     "ename": "NameError",
     "evalue": "name 'df_dist' is not defined",
     "output_type": "error",
     "traceback": [
      "\u001b[0;31m---------------------------------------------------------------------------\u001b[0m",
      "\u001b[0;31mNameError\u001b[0m                                 Traceback (most recent call last)",
      "Input \u001b[0;32mIn [13]\u001b[0m, in \u001b[0;36m<module>\u001b[0;34m\u001b[0m\n\u001b[0;32m----> 1\u001b[0m \u001b[43mdf_dist\u001b[49m[\u001b[38;5;124m'\u001b[39m\u001b[38;5;124merr_ang\u001b[39m\u001b[38;5;124m'\u001b[39m]\u001b[38;5;241m=\u001b[39merr_dist\n\u001b[1;32m      2\u001b[0m df_dist[\u001b[38;5;124m'\u001b[39m\u001b[38;5;124merr_cont\u001b[39m\u001b[38;5;124m'\u001b[39m]\u001b[38;5;241m=\u001b[39mnp\u001b[38;5;241m.\u001b[39msqrt(df_dist[\u001b[38;5;124m'\u001b[39m\u001b[38;5;124mConteggi\u001b[39m\u001b[38;5;124m'\u001b[39m])\n",
      "\u001b[0;31mNameError\u001b[0m: name 'df_dist' is not defined"
     ]
    }
   ],
   "source": [
    "df_dist['err_ang']=err_dist\n",
    "df_dist['err_cont']=np.sqrt(df_dist['Conteggi'])"
   ]
  },
  {
   "cell_type": "code",
   "execution_count": 293,
   "id": "102e717e",
   "metadata": {},
   "outputs": [
    {
     "data": {
      "image/png": "[encoded data removed]",
      "text/plain": [
       "<Figure size 432x288 with 1 Axes>"
      ]
     },
     "metadata": {
      "needs_background": "light"
     },
     "output_type": "display_data"
    }
   ],
   "source": [
    "fig = plt.figure()\n",
    "\n",
    "plt.errorbar(df_count['Alimentazione [V]'],df_count['PMT1'],\n",
    "             xerr=df_count['err_V'],yerr=df_count['err_1'],linestyle='None',elinewidth=1,label='PMT1')\n",
    "\n",
    "plt.errorbar(df_count['Alimentazione [V]'],df_count['PMT2'],\n",
    "             xerr=df_count['err_V'],yerr=df_count['err_2'],linestyle='None',elinewidth=1,label='PMT2')\n",
    "\n",
    "plt.errorbar(df_count['Alimentazione [V]'],df_count['PMT3'],\n",
    "             xerr=df_count['err_V'],yerr=df_count['err_3'],linestyle='None',elinewidth=1,label='PMT3')\n",
    "\n",
    "fig.text(0.69, 0.31, \"x Errorbars multiplied by 2\", fontsize=10, \n",
    "         ha='center',bbox={'facecolor': 'white', 'alpha': 0.5, 'pad': 10})\n",
    "\n",
    "plt.xlabel('Voltage source [V]')\n",
    "plt.ylabel('Counts')\n",
    "plt.title('Counts vs voltage source')\n",
    "plt.legend()\n",
    "plt.yscale('log')\n",
    "plt.savefig('./plots/counts123_new.pdf')\n",
    "plt.show()"
   ]
  },
  {
   "cell_type": "code",
   "execution_count": 294,
   "id": "d9eab3d4",
   "metadata": {},
   "outputs": [
    {
     "data": {
      "image/png": "[encoded data removed]",
      "text/plain": [
       "<Figure size 432x288 with 1 Axes>"
      ]
     },
     "metadata": {
      "needs_background": "light"
     },
     "output_type": "display_data"
    }
   ],
   "source": [
    "fig = plt.figure()\n",
    "\n",
    "plt.errorbar(df_count['Alimentazione [V]'],df_count['PMT1'],\n",
    "             xerr=2*df_count['err_V'],yerr=5*df_count['err_1'],linestyle='None',elinewidth=1,label='PMT1')\n",
    "\n",
    "plt.errorbar(df_count['Alimentazione [V]'],df_count['PMT2'],\n",
    "             xerr=2*df_count['err_V'],yerr=5*df_count['err_2'],linestyle='None',elinewidth=1,label='PMT2')\n",
    "\n",
    "#plt.errorbar(df_count['Alimentazione [V]'],df_count['PMT3'],\n",
    "             #xerr=df_count['err_V'],yerr=2*df_count['err_3'],linestyle='None',markersize=33,label='PMT3')\n",
    "\n",
    "fig.text(0.31, 0.60, \"X Errorbars multiplied by 2\", fontsize=10, \n",
    "         ha='center',bbox={'facecolor': 'white', 'alpha': 0.5, 'pad': 10})\n",
    "\n",
    "fig.text(0.31, 0.45, \"Y Errorbars multiplied by 5\", fontsize=10, \n",
    "         ha='center',bbox={'facecolor': 'white', 'alpha': 0.5, 'pad': 10})\n",
    "\n",
    "plt.xlabel('Voltage source [V]')\n",
    "plt.ylabel('Counts')\n",
    "plt.title('Counts vs voltage source')\n",
    "plt.legend()\n",
    "plt.savefig('./plots/counts12_new.pdf')\n",
    "plt.show()"
   ]
  },
  {
   "cell_type": "code",
   "execution_count": 295,
   "id": "dd2b046b",
   "metadata": {},
   "outputs": [
    {
     "data": {
      "image/png": "[encoded data removed]",
      "text/plain": [
       "<Figure size 432x288 with 1 Axes>"
      ]
     },
     "metadata": {
      "needs_background": "light"
     },
     "output_type": "display_data"
    }
   ],
   "source": [
    "fig = plt.figure()\n",
    "\n",
    "plt.errorbar(df_count['Alimentazione [V]'],df_count['PMT1'],\n",
    "             xerr=2*df_count['err_V'],yerr=5*df_count['err_1'],linestyle='None',elinewidth=1,label='PMT1')\n",
    "\n",
    "\n",
    "fig.text(0.31, 0.60, \"X Errorbars multiplied by 2\", fontsize=10, \n",
    "         ha='center',bbox={'facecolor': 'white', 'alpha': 0.5, 'pad': 10})\n",
    "\n",
    "fig.text(0.31, 0.45, \"Y Errorbars multiplied by 5\", fontsize=10, \n",
    "         ha='center',bbox={'facecolor': 'white', 'alpha': 0.5, 'pad': 10})\n",
    "\n",
    "plt.xlabel('Voltage source [V]')\n",
    "plt.ylabel('Counts')\n",
    "plt.title('Counts vs voltage source')\n",
    "plt.legend()\n",
    "#plt.yscale('log')\n",
    "plt.savefig('./plots/counts1_new.pdf')\n",
    "plt.show()"
   ]
  },
  {
   "cell_type": "code",
   "execution_count": 249,
   "id": "e3ca149d",
   "metadata": {},
   "outputs": [],
   "source": [
    "df_count_print=df_count.copy()\n",
    "df_count_print[\"Alimentazione [V]\"] = df_count[\"Alimentazione [V]\"].astype(str) + '±' + df_count[\"err_V\"].round(0).astype(int).astype(str)\n",
    "df_count_print['Counts 1']=df_count[\"PMT1\"].astype(str) + '±' + df_count[\"err_1\"].round(0).astype(int).astype(str)\n",
    "df_count_print['Counts 2']=df_count[\"PMT2\"].astype(str) + '±' + df_count[\"err_2\"].round(0).astype(int).astype(str)\n",
    "df_count_print['Counts 3']=df_count[\"PMT3\"].astype(str) + '±' + df_count[\"err_3\"].round(0).astype(int).astype(str)\n",
    "df_count_print.drop(['err_1','err_2','err_3', 'err_V','PMT1','PMT2','PMT3'],axis=1,inplace=True)"
   ]
  },
  {
   "cell_type": "code",
   "execution_count": 251,
   "id": "8237cf87",
   "metadata": {},
   "outputs": [
    {
     "name": "stdout",
     "output_type": "stream",
     "text": [
      "\\begin{tabular}{llll}\n",
      "\\toprule\n",
      "Alimentazione [V] &  Counts 1 &  Counts 2 &   Counts 3 \\\\\n",
      "\\midrule\n",
      "           1500±2 &       0±0 &       4±2 &       12±3 \\\\\n",
      "           1525±2 &       1±1 &      11±3 &       27±5 \\\\\n",
      "           1550±2 &       6±2 &      31±6 &     177±13 \\\\\n",
      "           1575±2 &       9±3 &      63±8 &     581±24 \\\\\n",
      "           1600±2 &      31±6 &    182±13 &    1298±36 \\\\\n",
      "           1625±2 &      63±8 &    292±17 &    1933±44 \\\\\n",
      "           1650±2 &    186±14 &    485±22 &    2849±53 \\\\\n",
      "           1675±2 &    364±19 &    826±29 &    5438±74 \\\\\n",
      "           1700±2 &    601±25 &   1111±33 &  23432±153 \\\\\n",
      "           1725±2 &    874±30 &   1883±43 &  60412±246 \\\\\n",
      "           1750±2 &   2077±46 &   4549±67 &  91147±302 \\\\\n",
      "           1775±2 & 10979±105 &   7787±88 & 118266±344 \\\\\n",
      "           1800±2 & 31783±178 & 10069±100 & 139454±373 \\\\\n",
      "           1825±2 & 50880±226 & 10793±104 & 164339±405 \\\\\n",
      "           1850±2 & 62821±251 & 11703±108 & 188011±434 \\\\\n",
      "           1875±2 & 69648±264 & 12665±113 & 231435±481 \\\\\n",
      "           1900±2 & 74396±273 & 13281±115 & 274960±524 \\\\\n",
      "           1925±2 & 77031±278 & 14377±120 & 344724±587 \\\\\n",
      "           1950±2 & 80927±284 & 15775±126 & 485614±697 \\\\\n",
      "           1975±2 & 88259±297 & 17174±131 & 663856±815 \\\\\n",
      "\\bottomrule\n",
      "\\end{tabular}\n",
      "\n"
     ]
    }
   ],
   "source": [
    "print(df_count_print.to_latex(index=False))"
   ]
  },
  {
   "cell_type": "markdown",
   "id": "d7c09aad",
   "metadata": {},
   "source": [
    "# Efficienza"
   ]
  },
  {
   "cell_type": "code",
   "execution_count": 187,
   "id": "de8fc629",
   "metadata": {},
   "outputs": [],
   "source": [
    "df_eff2 = pd.read_csv(\"./data/eff2.txt\",sep=\"\\t\")\n"
   ]
  },
  {
   "cell_type": "code",
   "execution_count": 188,
   "id": "b76c360b",
   "metadata": {},
   "outputs": [],
   "source": [
    "df_eff2['doppie_acc']=df_eff2['1']*df_eff2['3']*98*10**(-11)\n",
    "df_eff2['err1']=np.sqrt(df_eff2['1'])\n",
    "df_eff2['err2']=np.sqrt(df_eff2['2'])\n",
    "df_eff2['err3']=np.sqrt(df_eff2['3'])"
   ]
  },
  {
   "cell_type": "code",
   "execution_count": 299,
   "id": "47b4993c",
   "metadata": {},
   "outputs": [],
   "source": [
    "df_eff2['efficienza']=df_eff2['1&2&3']/(df_eff2['1&3']-df_eff2['doppie_acc'])\n",
    "df_eff2['err_V']=(df_eff2['V']*0.0005+1)\n",
    "df_eff2['err_eff']=np.sqrt(df_eff2['efficienza']*(1-df_eff2['efficienza'])/(df_eff2['1&3']-df_eff2['doppie_acc']))\n",
    "df_eff2['err_tri']=np.sqrt(df_eff2['efficienza']*(1-df_eff2['efficienza'])*(df_eff2['1&3']-df_eff2['doppie_acc']))"
   ]
  },
  {
   "cell_type": "code",
   "execution_count": 300,
   "id": "9777dbb4",
   "metadata": {},
   "outputs": [
    {
     "data": {
      "text/html": [
       "<div>\n",
       "<style scoped>\n",
       "    .dataframe tbody tr th:only-of-type {\n",
       "        vertical-align: middle;\n",
       "    }\n",
       "\n",
       "    .dataframe tbody tr th {\n",
       "        vertical-align: top;\n",
       "    }\n",
       "\n",
       "    .dataframe thead th {\n",
       "        text-align: right;\n",
       "    }\n",
       "</style>\n",
       "<table border=\"1\" class=\"dataframe\">\n",
       "  <thead>\n",
       "    <tr style=\"text-align: right;\">\n",
       "      <th></th>\n",
       "      <th>V</th>\n",
       "      <th>1</th>\n",
       "      <th>2</th>\n",
       "      <th>3</th>\n",
       "      <th>1&amp;3</th>\n",
       "      <th>1&amp;2&amp;3</th>\n",
       "      <th>doppie_acc</th>\n",
       "      <th>err1</th>\n",
       "      <th>err2</th>\n",
       "      <th>err3</th>\n",
       "      <th>efficienza</th>\n",
       "      <th>err_V</th>\n",
       "      <th>err_eff</th>\n",
       "      <th>err_tri</th>\n",
       "    </tr>\n",
       "  </thead>\n",
       "  <tbody>\n",
       "    <tr>\n",
       "      <th>0</th>\n",
       "      <td>1500</td>\n",
       "      <td>117786</td>\n",
       "      <td>43</td>\n",
       "      <td>124865</td>\n",
       "      <td>1787</td>\n",
       "      <td>14</td>\n",
       "      <td>14.413202</td>\n",
       "      <td>343.199650</td>\n",
       "      <td>6.557439</td>\n",
       "      <td>353.362420</td>\n",
       "      <td>0.007898</td>\n",
       "      <td>1.7500</td>\n",
       "      <td>0.002102</td>\n",
       "      <td>3.726852</td>\n",
       "    </tr>\n",
       "    <tr>\n",
       "      <th>1</th>\n",
       "      <td>1525</td>\n",
       "      <td>118337</td>\n",
       "      <td>116</td>\n",
       "      <td>127691</td>\n",
       "      <td>1861</td>\n",
       "      <td>28</td>\n",
       "      <td>14.808358</td>\n",
       "      <td>344.001453</td>\n",
       "      <td>10.770330</td>\n",
       "      <td>357.338775</td>\n",
       "      <td>0.015166</td>\n",
       "      <td>1.7625</td>\n",
       "      <td>0.002844</td>\n",
       "      <td>5.251223</td>\n",
       "    </tr>\n",
       "    <tr>\n",
       "      <th>2</th>\n",
       "      <td>1550</td>\n",
       "      <td>114947</td>\n",
       "      <td>300</td>\n",
       "      <td>125546</td>\n",
       "      <td>1828</td>\n",
       "      <td>80</td>\n",
       "      <td>14.142513</td>\n",
       "      <td>339.038346</td>\n",
       "      <td>17.320508</td>\n",
       "      <td>354.324710</td>\n",
       "      <td>0.044105</td>\n",
       "      <td>1.7750</td>\n",
       "      <td>0.004821</td>\n",
       "      <td>8.744805</td>\n",
       "    </tr>\n",
       "    <tr>\n",
       "      <th>3</th>\n",
       "      <td>1575</td>\n",
       "      <td>128549</td>\n",
       "      <td>757</td>\n",
       "      <td>129436</td>\n",
       "      <td>1827</td>\n",
       "      <td>249</td>\n",
       "      <td>16.306091</td>\n",
       "      <td>358.537306</td>\n",
       "      <td>27.513633</td>\n",
       "      <td>359.772150</td>\n",
       "      <td>0.137516</td>\n",
       "      <td>1.7875</td>\n",
       "      <td>0.008093</td>\n",
       "      <td>14.654639</td>\n",
       "    </tr>\n",
       "    <tr>\n",
       "      <th>4</th>\n",
       "      <td>1600</td>\n",
       "      <td>127551</td>\n",
       "      <td>1751</td>\n",
       "      <td>131284</td>\n",
       "      <td>1843</td>\n",
       "      <td>587</td>\n",
       "      <td>16.410497</td>\n",
       "      <td>357.142829</td>\n",
       "      <td>41.844952</td>\n",
       "      <td>362.331340</td>\n",
       "      <td>0.321364</td>\n",
       "      <td>1.8000</td>\n",
       "      <td>0.010927</td>\n",
       "      <td>19.958942</td>\n",
       "    </tr>\n",
       "  </tbody>\n",
       "</table>\n",
       "</div>"
      ],
      "text/plain": [
       "      V       1     2       3   1&3  1&2&3  doppie_acc        err1       err2  \\\n",
       "0  1500  117786    43  124865  1787     14   14.413202  343.199650   6.557439   \n",
       "1  1525  118337   116  127691  1861     28   14.808358  344.001453  10.770330   \n",
       "2  1550  114947   300  125546  1828     80   14.142513  339.038346  17.320508   \n",
       "3  1575  128549   757  129436  1827    249   16.306091  358.537306  27.513633   \n",
       "4  1600  127551  1751  131284  1843    587   16.410497  357.142829  41.844952   \n",
       "\n",
       "         err3  efficienza   err_V   err_eff    err_tri  \n",
       "0  353.362420    0.007898  1.7500  0.002102   3.726852  \n",
       "1  357.338775    0.015166  1.7625  0.002844   5.251223  \n",
       "2  354.324710    0.044105  1.7750  0.004821   8.744805  \n",
       "3  359.772150    0.137516  1.7875  0.008093  14.654639  \n",
       "4  362.331340    0.321364  1.8000  0.010927  19.958942  "
      ]
     },
     "execution_count": 300,
     "metadata": {},
     "output_type": "execute_result"
    }
   ],
   "source": [
    "df_eff2.head()"
   ]
  },
  {
   "cell_type": "code",
   "execution_count": 142,
   "id": "8360fc46",
   "metadata": {},
   "outputs": [
    {
     "data": {
      "image/png": "[encoded data removed]",
      "text/plain": [
       "<Figure size 432x288 with 1 Axes>"
      ]
     },
     "metadata": {
      "needs_background": "light"
     },
     "output_type": "display_data"
    }
   ],
   "source": [
    "fig_4=df_eff2.plot(x='V',y='efficienza',\n",
    "             title='Efficiency vs voltage source', \n",
    "             xlabel='Voltage source [v]',ylabel='Efficiency',xerr='err_V',yerr='err_eff',style='.',color='green',linestyle='None'\n",
    "                ).get_figure()"
   ]
  },
  {
   "cell_type": "code",
   "execution_count": 45,
   "id": "84c3ae4c",
   "metadata": {},
   "outputs": [],
   "source": [
    "fig_4.savefig('./plots/eff_2.pdf')"
   ]
  },
  {
   "cell_type": "code",
   "execution_count": 307,
   "id": "1d0b7ca7",
   "metadata": {},
   "outputs": [
    {
     "data": {
      "image/png": "[encoded data removed]",
      "text/plain": [
       "<Figure size 432x288 with 1 Axes>"
      ]
     },
     "metadata": {
      "needs_background": "light"
     },
     "output_type": "display_data"
    }
   ],
   "source": [
    "df_eff3 = pd.read_csv(\"./data/eff3.txt\",sep=\"\\t\")\n",
    "df_eff3['doppie_acc']=df_eff3['1']*df_eff3['2']*98*10**(-11)\n",
    "df_eff3['err1']=np.sqrt(df_eff3['1'])\n",
    "df_eff3['err2']=np.sqrt(df_eff3['2'])\n",
    "df_eff3['err3']=np.sqrt(df_eff3['3'])\n",
    "df_eff3['efficienza']=df_eff3['1&2&3']/(df_eff3['1&2']-df_eff3['doppie_acc'])\n",
    "df_eff3['err_V']=(df_eff3['V']*0.0005+1)\n",
    "df_eff3['err_eff']=np.sqrt(df_eff3['efficienza']*(1-df_eff3['efficienza'])/(df_eff3['1&2']-df_eff3['doppie_acc']))\n",
    "df_eff3['err_tri']=np.sqrt(df_eff3['efficienza']*(1-df_eff3['efficienza'])*(df_eff3['1&2']-df_eff3['doppie_acc']))\n",
    "fig_4=df_eff3.plot(x='V',y='efficienza',\n",
    "             title='Efficiency vs voltage source', \n",
    "             xlabel='Voltage source [v]',ylabel='Efficiency',xerr='err_V',yerr='err_eff',style='.',color='green',linestyle='None'\n",
    "                ).get_figure()"
   ]
  },
  {
   "cell_type": "code",
   "execution_count": 62,
   "id": "7494c35f",
   "metadata": {},
   "outputs": [
    {
     "data": {
      "image/png": "[encoded data removed]",
      "text/plain": [
       "<Figure size 432x288 with 1 Axes>"
      ]
     },
     "metadata": {
      "needs_background": "light"
     },
     "output_type": "display_data"
    }
   ],
   "source": [
    "df_eff1 = pd.read_csv(\"./data/eff1.txt\",sep=\"\\t\")\n",
    "df_eff1['efficienza1']=df_eff1['1&2&3']/df_eff1['2&3']\n",
    "df_eff1['err_V1']=(df_eff1['V1']*0.0005+1)*2\n",
    "df_eff1['err_eff1']=np.sqrt(df_eff1['efficienza1']*(1-df_eff1['efficienza1'])/df_eff1['2&3'])*2\n",
    "fig_4=df_eff1.plot(x='V1',y='efficienza1',\n",
    "             title='Efficiency vs voltage source', \n",
    "             xlabel='Voltage source [v]',ylabel='Efficiency',xerr='err_V1',yerr='err_eff1',style='.',color='green',linestyle='None'\n",
    "                ).get_figure()"
   ]
  },
  {
   "cell_type": "code",
   "execution_count": 296,
   "id": "32cd9074",
   "metadata": {},
   "outputs": [
    {
     "data": {
      "image/png": "[encoded data removed]",
      "text/plain": [
       "<Figure size 432x288 with 1 Axes>"
      ]
     },
     "metadata": {
      "needs_background": "light"
     },
     "output_type": "display_data"
    }
   ],
   "source": [
    "fig = plt.figure()\n",
    "\n",
    "plt.errorbar(df_eff2['V'],df_eff2['efficienza'],\n",
    "             xerr=2*df_eff2['err_V'],yerr=2*df_eff2['err_eff'],label='PMT2',linestyle='None',elinewidth=1,\n",
    "             ecolor='#ff7f0e')\n",
    "\n",
    "plt.errorbar(df_eff3['V'],df_eff3['efficienza'],\n",
    "\n",
    "             xerr=2*df_eff3['err_V'],yerr=2*df_eff3['err_eff'],label='PMT3',linestyle='None',elinewidth=1,\n",
    "             ecolor='#2ca02c')\n",
    "\n",
    "fig.text(0.65, 0.37, \"Errorbars multiplied by 2\", fontsize=10, \n",
    "         ha='center',bbox={'facecolor': 'white', 'alpha': 0.5, 'pad': 10})\n",
    "\n",
    "plt.xlabel('Voltage source [V]')\n",
    "plt.ylabel('Efficiency')\n",
    "plt.title('Efficiency vs voltage source')\n",
    "plt.legend()\n",
    "plt.savefig('./plots/eff.pdf')\n",
    "plt.show()"
   ]
  },
  {
   "cell_type": "code",
   "execution_count": 303,
   "id": "78fc4fc9",
   "metadata": {},
   "outputs": [],
   "source": [
    "df_eff2_print=df_eff2.copy()"
   ]
  },
  {
   "cell_type": "code",
   "execution_count": 304,
   "id": "b3ddedd6",
   "metadata": {},
   "outputs": [],
   "source": [
    "df_eff2_print[\"V\"] = df_eff2[\"V\"].astype(str) + '±' + df_eff2[\"err_V\"].round(0).astype(int).astype(str)\n",
    "df_eff2_print['1']=df_eff2[\"1\"].astype(str) + '±' + df_eff2[\"err1\"].round(0).astype(int).astype(str)\n",
    "df_eff2_print['2']=df_eff2[\"2\"].astype(str) + '±' + df_eff2[\"err2\"].round(0).astype(int).astype(str)\n",
    "df_eff2_print['3']=df_eff2[\"3\"].astype(str) + '±' + df_eff2[\"err3\"].round(0).astype(int).astype(str)\n",
    "df_eff2_print['efficienza']=df_eff2[\"efficienza\"].round(3).astype(str) + '±' + df_eff2[\"err_eff\"].round(3).astype(str)\n",
    "df_eff2_print['doppie_acc']=df_eff2_print['doppie_acc'].round(2)\n",
    "df_eff2_print['1&2&3']=df_eff2[\"1&2&3\"].astype(str) + '±' + df_eff2[\"err_tri\"].round(0).astype(int).astype(str)"
   ]
  },
  {
   "cell_type": "code",
   "execution_count": 305,
   "id": "42da3152",
   "metadata": {},
   "outputs": [
    {
     "name": "stdout",
     "output_type": "stream",
     "text": [
      "\\begin{tabular}{llllrlrl}\n",
      "\\toprule\n",
      "     V &          1 &          2 &          3 &  1\\&3 &   1\\&2\\&3 &  doppie\\_acc &  efficienza \\\\\n",
      "\\midrule\n",
      "1500±2 & 117786±343 &       43±7 & 124865±353 & 1787 &    14±4 &       14.41 & 0.008±0.002 \\\\\n",
      "1525±2 & 118337±344 &     116±11 & 127691±357 & 1861 &    28±5 &       14.81 & 0.015±0.003 \\\\\n",
      "1550±2 & 114947±339 &     300±17 & 125546±354 & 1828 &    80±9 &       14.14 & 0.044±0.005 \\\\\n",
      "1575±2 & 128549±359 &     757±28 & 129436±360 & 1827 &  249±15 &       16.31 & 0.138±0.008 \\\\\n",
      "1600±2 & 127551±357 &    1751±42 & 131284±362 & 1843 &  587±20 &       16.41 & 0.321±0.011 \\\\\n",
      "1625±2 & 128204±358 &    3351±58 & 134213±366 & 1859 & 1119±21 &       16.86 & 0.607±0.011 \\\\\n",
      "1650±2 & 128634±359 &    5329±73 & 131384±362 & 1890 & 1428±18 &       16.56 &  0.762±0.01 \\\\\n",
      "1675±2 & 128860±359 &    7889±89 & 128064±358 & 1848 & 1571±15 &       16.17 & 0.858±0.008 \\\\\n",
      "1700±2 & 128641±359 &  11111±105 & 129291±360 & 1875 & 1662±13 &       16.30 & 0.894±0.007 \\\\\n",
      "1725±2 & 129554±360 &  18862±137 & 130067±361 & 1815 & 1660±11 &       16.51 & 0.923±0.006 \\\\\n",
      "1750±2 & 127625±357 &  43924±210 & 130924±362 & 1834 & 1695±11 &       16.37 & 0.933±0.006 \\\\\n",
      "1775±2 & 119732±346 &  70821±266 & 131098±362 & 1859 & 1727±10 &       15.38 & 0.937±0.006 \\\\\n",
      "1800±2 & 130415±361 &  91787±303 & 135149±368 & 1829 & 1710±10 &       17.27 & 0.944±0.005 \\\\\n",
      "1825±2 & 119721±346 & 100983±318 & 130939±362 & 1877 & 1757±10 &       15.36 & 0.944±0.005 \\\\\n",
      "1850±2 & 129063±359 & 108456±329 & 136933±370 & 1803 &  1695±9 &       17.32 & 0.949±0.005 \\\\\n",
      "1875±2 & 121924±349 & 115721±340 & 131275±362 & 1818 & 1707±10 &       15.69 & 0.947±0.005 \\\\\n",
      "1900±2 & 129124±359 & 124731±353 & 139023±373 & 1906 & 1778±10 &       17.59 & 0.942±0.005 \\\\\n",
      "1925±2 & 129222±359 & 133572±365 & 136182±369 & 1868 & 1744±10 &       17.25 & 0.942±0.005 \\\\\n",
      "1950±2 & 129864±360 & 146637±383 & 140104±374 & 1870 & 1737±10 &       17.83 & 0.938±0.006 \\\\\n",
      "1975±2 & 129545±360 & 160515±401 & 140515±375 & 1854 & 1719±10 &       17.84 & 0.936±0.006 \\\\\n",
      "\\bottomrule\n",
      "\\end{tabular}\n",
      "\n"
     ]
    }
   ],
   "source": [
    "df_eff2_print.drop(['err1','err2','err3','err_V','err_eff','err_tri'],axis=1,inplace=True)\n",
    "print(df_eff2_print.to_latex(index=False))"
   ]
  },
  {
   "cell_type": "code",
   "execution_count": 309,
   "id": "ee515e6d",
   "metadata": {},
   "outputs": [
    {
     "name": "stdout",
     "output_type": "stream",
     "text": [
      "\\begin{tabular}{llllrlrl}\n",
      "\\toprule\n",
      "     V &          1 &          2 &            3 &  1\\&2 &   1\\&2\\&3 &  doppie\\_acc &  efficienza \\\\\n",
      "\\midrule\n",
      "1500±2 & 107990±329 & 109758±331 &         87±9 & 2733 &    22±5 &       11.62 & 0.008±0.002 \\\\\n",
      "1525±2 & 108912±330 & 109573±331 &       298±17 & 2791 &    83±9 &       11.70 &  0.03±0.003 \\\\\n",
      "1550±2 & 108212±329 & 109628±331 &      1395±37 & 2747 &  257±15 &       11.63 & 0.094±0.005 \\\\\n",
      "1560±2 & 107425±328 & 109808±331 &      2573±51 & 2743 &  440±19 &       11.56 & 0.161±0.008 \\\\\n",
      "1575±2 & 107749±328 & 109709±331 &      4973±71 & 2779 &  662±22 &       11.58 & 0.239±0.011 \\\\\n",
      "1585±2 & 107559±328 & 110563±333 &      6468±80 & 2842 &  819±24 &       11.65 & 0.289±0.011 \\\\\n",
      "1595±2 & 107066±327 & 109347±331 &      9051±95 & 2792 & 1113±26 &       11.47 &    0.4±0.01 \\\\\n",
      "1600±2 & 108045±329 & 110262±332 &    10339±102 & 2787 & 1167±26 &       11.67 &  0.42±0.008 \\\\\n",
      "1625±2 & 107711±328 & 110826±333 &    16819±130 & 2841 & 1485±27 &       11.70 & 0.525±0.007 \\\\\n",
      "1650±2 & 122474±350 & 110794±333 &    23761±154 & 2849 & 1667±26 &       13.30 & 0.588±0.006 \\\\\n",
      "1675±2 & 107513±328 & 110036±332 &    41999±205 & 2808 & 1751±26 &       11.59 & 0.626±0.006 \\\\\n",
      "1700±2 & 108256±329 & 108938±330 &   185231±430 & 2808 & 1747±26 &       11.56 & 0.625±0.006 \\\\\n",
      "1725±2 & 107366±328 & 111006±333 &   514711±717 & 2829 & 1791±26 &       11.68 & 0.636±0.005 \\\\\n",
      "1800±2 & 107739±328 & 110693±333 & 1268543±1126 & 2823 & 1823±25 &       11.69 & 0.648±0.005 \\\\\n",
      "1900±2 & 107556±328 & 110035±332 & 2597806±1612 & 2767 & 1791±25 &       11.60 &  0.65±0.005 \\\\\n",
      "\\bottomrule\n",
      "\\end{tabular}\n",
      "\n"
     ]
    }
   ],
   "source": [
    "df_eff3_print=df_eff3.copy()\n",
    "df_eff3_print[\"V\"] = df_eff3[\"V\"].astype(str) + '±' + df_eff3[\"err_V\"].round(0).astype(int).astype(str)\n",
    "df_eff3_print['1']=df_eff3[\"1\"].astype(str) + '±' + df_eff3[\"err1\"].round(0).astype(int).astype(str)\n",
    "df_eff3_print['2']=df_eff3[\"2\"].astype(str) + '±' + df_eff3[\"err2\"].round(0).astype(int).astype(str)\n",
    "df_eff3_print['3']=df_eff3[\"3\"].astype(str) + '±' + df_eff3[\"err3\"].round(0).astype(int).astype(str)\n",
    "df_eff3_print['efficienza']=df_eff3[\"efficienza\"].round(3).astype(str) + '±' + df_eff2[\"err_eff\"].round(3).astype(str)\n",
    "df_eff3_print['doppie_acc']=df_eff3_print['doppie_acc'].round(2)\n",
    "df_eff3_print['1&2&3']=df_eff3[\"1&2&3\"].astype(str) + '±' + df_eff3[\"err_tri\"].round(0).astype(int).astype(str)\n",
    "df_eff3_print.drop(['err1','err2','err3','err_V','err_eff','err_tri'],axis=1,inplace=True)\n",
    "print(df_eff3_print.to_latex(index=False))"
   ]
  },
  {
   "cell_type": "code",
   "execution_count": null,
   "id": "f4863fbb",
   "metadata": {},
   "outputs": [],
   "source": [
    "df_eff1=pd.DataFrame({'1': [122607], '2': [111009],'3':[118695],'2&3':[2800],'1&2&3':[1733]})"
   ]
  },
  {
   "cell_type": "code",
   "execution_count": null,
   "id": "cfd84b54",
   "metadata": {},
   "outputs": [],
   "source": [
    "df_eff1['doppie_acc']=df_eff1['1']*df_eff1['2']*98*10**(-11)\n",
    "df_eff1['err1']=np.sqrt(df_eff1['1'])\n",
    "df_eff1['err2']=np.sqrt(df_eff1['2'])\n",
    "df_eff1['err3']=np.sqrt(df_eff1['3'])\n",
    "df_eff1['efficienza']=df_eff1['1&2&3']/(df_eff1['2&3']-df_eff1['doppie_acc'])\n",
    "#df_eff1['err_V']=(df_eff1['V']*0.0005+1)\n",
    "df_eff1['err_eff']=np.sqrt(df_eff1['efficienza']*(1-df_eff1['efficienza'])/(df_eff1['2&3']-df_eff1['doppie_acc']))\n",
    "df_eff1['err_tri']=np.sqrt(df_eff1['efficienza']*(1-df_eff1['efficienza'])*(df_eff1['2&3']-df_eff1['doppie_acc']))"
   ]
  },
  {
   "cell_type": "code",
   "execution_count": null,
   "id": "552114e7",
   "metadata": {},
   "outputs": [],
   "source": [
    "df_eff1"
   ]
  }
 ],
 "metadata": {
  "kernelspec": {
   "display_name": "Python 3 (ipykernel)",
   "language": "python",
   "name": "python3"
  },
  "language_info": {
   "codemirror_mode": {
    "name": "ipython",
    "version": 3
   },
   "file_extension": ".py",
   "mimetype": "text/x-python",
   "name": "python",
   "nbconvert_exporter": "python",
   "pygments_lexer": "ipython3",
   "version": "3.9.4"
  }
 },
 "nbformat": 4,
 "nbformat_minor": 5
}
