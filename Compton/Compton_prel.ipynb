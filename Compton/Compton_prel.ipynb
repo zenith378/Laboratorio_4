{
 "cells": [
  {
   "cell_type": "code",
   "execution_count": 1,
   "id": "9b78497f",
   "metadata": {},
   "outputs": [],
   "source": [
    "import numpy as np\n",
    "import pandas as pd\n",
    "import matplotlib.pyplot as plt\n"
   ]
  },
  {
   "cell_type": "markdown",
   "id": "d60040b6",
   "metadata": {},
   "source": [
    "# Determinazione dell'asse (conteggi vs angolo)"
   ]
  },
  {
   "cell_type": "markdown",
   "id": "d6af5298",
   "metadata": {},
   "source": [
    "## Prima misura"
   ]
  },
  {
   "cell_type": "code",
   "execution_count": 5,
   "id": "7a3ac338",
   "metadata": {},
   "outputs": [],
   "source": [
    "df_asse = pd.read_csv(\"./data/asse.txt\",sep=\"\\t\")\n"
   ]
  },
  {
   "cell_type": "code",
   "execution_count": 3,
   "id": "1e7e129b",
   "metadata": {},
   "outputs": [],
   "source": [
    "err_angolo=1"
   ]
  },
  {
   "cell_type": "code",
   "execution_count": 4,
   "id": "39a56894",
   "metadata": {},
   "outputs": [
    {
     "data": {
      "text/plain": [
       "1"
      ]
     },
     "execution_count": 4,
     "metadata": {},
     "output_type": "execute_result"
    }
   ],
   "source": [
    "err_angolo"
   ]
  },
  {
   "cell_type": "code",
   "execution_count": 6,
   "id": "2cf18d43",
   "metadata": {},
   "outputs": [],
   "source": [
    "df_asse['err_ang']=err_angolo\n",
    "df_asse['err_cont']=np.sqrt(df_asse['Conteggi'])\n"
   ]
  },
  {
   "cell_type": "code",
   "execution_count": 7,
   "id": "f5868844",
   "metadata": {},
   "outputs": [
    {
     "data": {
      "text/html": [
       "<div>\n",
       "<style scoped>\n",
       "    .dataframe tbody tr th:only-of-type {\n",
       "        vertical-align: middle;\n",
       "    }\n",
       "\n",
       "    .dataframe tbody tr th {\n",
       "        vertical-align: top;\n",
       "    }\n",
       "\n",
       "    .dataframe thead th {\n",
       "        text-align: right;\n",
       "    }\n",
       "</style>\n",
       "<table border=\"1\" class=\"dataframe\">\n",
       "  <thead>\n",
       "    <tr style=\"text-align: right;\">\n",
       "      <th></th>\n",
       "      <th>Angolo</th>\n",
       "      <th>Conteggi</th>\n",
       "      <th>err_ang</th>\n",
       "      <th>err_cont</th>\n",
       "    </tr>\n",
       "  </thead>\n",
       "  <tbody>\n",
       "    <tr>\n",
       "      <th>0</th>\n",
       "      <td>80</td>\n",
       "      <td>31337</td>\n",
       "      <td>1</td>\n",
       "      <td>177.022597</td>\n",
       "    </tr>\n",
       "    <tr>\n",
       "      <th>1</th>\n",
       "      <td>81</td>\n",
       "      <td>38279</td>\n",
       "      <td>1</td>\n",
       "      <td>195.650198</td>\n",
       "    </tr>\n",
       "    <tr>\n",
       "      <th>2</th>\n",
       "      <td>82</td>\n",
       "      <td>54192</td>\n",
       "      <td>1</td>\n",
       "      <td>232.791752</td>\n",
       "    </tr>\n",
       "    <tr>\n",
       "      <th>3</th>\n",
       "      <td>83</td>\n",
       "      <td>77928</td>\n",
       "      <td>1</td>\n",
       "      <td>279.155870</td>\n",
       "    </tr>\n",
       "    <tr>\n",
       "      <th>4</th>\n",
       "      <td>84</td>\n",
       "      <td>111370</td>\n",
       "      <td>1</td>\n",
       "      <td>333.721441</td>\n",
       "    </tr>\n",
       "    <tr>\n",
       "      <th>5</th>\n",
       "      <td>85</td>\n",
       "      <td>145706</td>\n",
       "      <td>1</td>\n",
       "      <td>381.714553</td>\n",
       "    </tr>\n",
       "    <tr>\n",
       "      <th>6</th>\n",
       "      <td>86</td>\n",
       "      <td>187831</td>\n",
       "      <td>1</td>\n",
       "      <td>433.394739</td>\n",
       "    </tr>\n",
       "    <tr>\n",
       "      <th>7</th>\n",
       "      <td>87</td>\n",
       "      <td>228386</td>\n",
       "      <td>1</td>\n",
       "      <td>477.897479</td>\n",
       "    </tr>\n",
       "    <tr>\n",
       "      <th>8</th>\n",
       "      <td>88</td>\n",
       "      <td>252541</td>\n",
       "      <td>1</td>\n",
       "      <td>502.534576</td>\n",
       "    </tr>\n",
       "    <tr>\n",
       "      <th>9</th>\n",
       "      <td>89</td>\n",
       "      <td>272752</td>\n",
       "      <td>1</td>\n",
       "      <td>522.256642</td>\n",
       "    </tr>\n",
       "    <tr>\n",
       "      <th>10</th>\n",
       "      <td>90</td>\n",
       "      <td>283083</td>\n",
       "      <td>1</td>\n",
       "      <td>532.055448</td>\n",
       "    </tr>\n",
       "    <tr>\n",
       "      <th>11</th>\n",
       "      <td>91</td>\n",
       "      <td>285097</td>\n",
       "      <td>1</td>\n",
       "      <td>533.944754</td>\n",
       "    </tr>\n",
       "    <tr>\n",
       "      <th>12</th>\n",
       "      <td>92</td>\n",
       "      <td>286170</td>\n",
       "      <td>1</td>\n",
       "      <td>534.948596</td>\n",
       "    </tr>\n",
       "    <tr>\n",
       "      <th>13</th>\n",
       "      <td>93</td>\n",
       "      <td>287894</td>\n",
       "      <td>1</td>\n",
       "      <td>536.557546</td>\n",
       "    </tr>\n",
       "    <tr>\n",
       "      <th>14</th>\n",
       "      <td>94</td>\n",
       "      <td>286610</td>\n",
       "      <td>1</td>\n",
       "      <td>535.359692</td>\n",
       "    </tr>\n",
       "    <tr>\n",
       "      <th>15</th>\n",
       "      <td>95</td>\n",
       "      <td>285673</td>\n",
       "      <td>1</td>\n",
       "      <td>534.483863</td>\n",
       "    </tr>\n",
       "    <tr>\n",
       "      <th>16</th>\n",
       "      <td>96</td>\n",
       "      <td>280599</td>\n",
       "      <td>1</td>\n",
       "      <td>529.715962</td>\n",
       "    </tr>\n",
       "    <tr>\n",
       "      <th>17</th>\n",
       "      <td>97</td>\n",
       "      <td>266907</td>\n",
       "      <td>1</td>\n",
       "      <td>516.630429</td>\n",
       "    </tr>\n",
       "    <tr>\n",
       "      <th>18</th>\n",
       "      <td>98</td>\n",
       "      <td>239386</td>\n",
       "      <td>1</td>\n",
       "      <td>489.270886</td>\n",
       "    </tr>\n",
       "    <tr>\n",
       "      <th>19</th>\n",
       "      <td>99</td>\n",
       "      <td>207186</td>\n",
       "      <td>1</td>\n",
       "      <td>455.176889</td>\n",
       "    </tr>\n",
       "    <tr>\n",
       "      <th>20</th>\n",
       "      <td>100</td>\n",
       "      <td>173801</td>\n",
       "      <td>1</td>\n",
       "      <td>416.894471</td>\n",
       "    </tr>\n",
       "  </tbody>\n",
       "</table>\n",
       "</div>"
      ],
      "text/plain": [
       "    Angolo  Conteggi  err_ang    err_cont\n",
       "0       80     31337        1  177.022597\n",
       "1       81     38279        1  195.650198\n",
       "2       82     54192        1  232.791752\n",
       "3       83     77928        1  279.155870\n",
       "4       84    111370        1  333.721441\n",
       "5       85    145706        1  381.714553\n",
       "6       86    187831        1  433.394739\n",
       "7       87    228386        1  477.897479\n",
       "8       88    252541        1  502.534576\n",
       "9       89    272752        1  522.256642\n",
       "10      90    283083        1  532.055448\n",
       "11      91    285097        1  533.944754\n",
       "12      92    286170        1  534.948596\n",
       "13      93    287894        1  536.557546\n",
       "14      94    286610        1  535.359692\n",
       "15      95    285673        1  534.483863\n",
       "16      96    280599        1  529.715962\n",
       "17      97    266907        1  516.630429\n",
       "18      98    239386        1  489.270886\n",
       "19      99    207186        1  455.176889\n",
       "20     100    173801        1  416.894471"
      ]
     },
     "execution_count": 7,
     "metadata": {},
     "output_type": "execute_result"
    }
   ],
   "source": [
    "df_asse"
   ]
  },
  {
   "cell_type": "code",
   "execution_count": 10,
   "id": "36294251",
   "metadata": {},
   "outputs": [
    {
     "data": {
      "image/png": "[encoded data removed]",
      "text/plain": [
       "<Figure size 432x288 with 1 Axes>"
      ]
     },
     "metadata": {
      "needs_background": "light"
     },
     "output_type": "display_data"
    }
   ],
   "source": [
    "plt.errorbar(df_asse['Angolo'],df_asse['Conteggi'],\n",
    "             xerr=df_asse['err_ang'],yerr=df_asse['err_cont'],linestyle='None',elinewidth=1)\n",
    "#plt.yscale('log')\n",
    "plt.xlabel('Angle [degree]')\n",
    "plt.ylabel('Counts [Hz]')\n",
    "plt.title('Counts vs angle')\n",
    "plt.savefig('./plots/asse.pdf')"
   ]
  },
  {
   "cell_type": "code",
   "execution_count": 46,
   "id": "94d60dc3",
   "metadata": {},
   "outputs": [],
   "source": [
    "df_asse_print=df_asse.copy()"
   ]
  },
  {
   "cell_type": "code",
   "execution_count": 47,
   "id": "24068be8",
   "metadata": {},
   "outputs": [],
   "source": [
    "df_asse_print[\"Angolo\"] = df_asse[\"Angolo\"].astype(str) + '±' + df_asse[\"err_ang\"].astype(str)\n",
    "df_asse_print['Conteggi']=df_asse[\"Conteggi\"].astype(str) + '±' + df_asse[\"err_cont\"].round(0).astype(int).astype(str)\n",
    "df_asse_print.drop(['err_ang','err_cont'],axis=1,inplace=True)"
   ]
  },
  {
   "cell_type": "code",
   "execution_count": 48,
   "id": "815b3659",
   "metadata": {},
   "outputs": [
    {
     "name": "stdout",
     "output_type": "stream",
     "text": [
      "\\begin{tabular}{ll}\n",
      "\\toprule\n",
      "Angolo &   Conteggi \\\\\n",
      "\\midrule\n",
      "  80±1 &  31337±177 \\\\\n",
      "  81±1 &  38279±196 \\\\\n",
      "  82±1 &  54192±233 \\\\\n",
      "  83±1 &  77928±279 \\\\\n",
      "  84±1 & 111370±334 \\\\\n",
      "  85±1 & 145706±382 \\\\\n",
      "  86±1 & 187831±433 \\\\\n",
      "  87±1 & 228386±478 \\\\\n",
      "  88±1 & 252541±503 \\\\\n",
      "  89±1 & 272752±522 \\\\\n",
      "  90±1 & 283083±532 \\\\\n",
      "  91±1 & 285097±534 \\\\\n",
      "  92±1 & 286170±535 \\\\\n",
      "  93±1 & 287894±537 \\\\\n",
      "  94±1 & 286610±535 \\\\\n",
      "  95±1 & 285673±534 \\\\\n",
      "  96±1 & 280599±530 \\\\\n",
      "  97±1 & 266907±517 \\\\\n",
      "  98±1 & 239386±489 \\\\\n",
      "  99±1 & 207186±455 \\\\\n",
      " 100±1 & 173801±417 \\\\\n",
      "\\bottomrule\n",
      "\\end{tabular}\n",
      "\n"
     ]
    }
   ],
   "source": [
    "print(df_asse_print.to_latex(index=False))"
   ]
  },
  {
   "cell_type": "markdown",
   "id": "ea78e8cc",
   "metadata": {},
   "source": [
    "# Distanza da sorgente"
   ]
  },
  {
   "cell_type": "code",
   "execution_count": 38,
   "id": "938d612b",
   "metadata": {},
   "outputs": [],
   "source": [
    "df_dist = pd.read_csv(\"./data/distanza_PMT1.txt\",sep=\"\\t\")"
   ]
  },
  {
   "cell_type": "code",
   "execution_count": 12,
   "id": "71fdf4ae",
   "metadata": {},
   "outputs": [],
   "source": [
    "err_dist=0.1"
   ]
  },
  {
   "cell_type": "code",
   "execution_count": 39,
   "id": "b884ed79",
   "metadata": {},
   "outputs": [],
   "source": [
    "df_dist['err_ang']=err_dist\n",
    "df_dist['err_cont']=np.sqrt(df_dist['Conteggi'])"
   ]
  },
  {
   "cell_type": "code",
   "execution_count": 40,
   "id": "102e717e",
   "metadata": {},
   "outputs": [
    {
     "data": {
      "image/png": "[encoded data removed]",
      "text/plain": [
       "<Figure size 432x288 with 1 Axes>"
      ]
     },
     "metadata": {
      "needs_background": "light"
     },
     "output_type": "display_data"
    }
   ],
   "source": [
    "plt.errorbar(df_dist['Distanza'],df_dist['Conteggi'],\n",
    "             xerr=df_dist['err_ang'],yerr=df_dist['err_cont'],linestyle='None',elinewidth=1)\n",
    "#plt.yscale('log')\n",
    "plt.xlabel('Dist [cm]')\n",
    "plt.ylabel('Counts [Hz]')\n",
    "plt.title('Counts vs dist')\n",
    "plt.savefig('./plots/dist_PMT1.pdf')"
   ]
  },
  {
   "cell_type": "code",
   "execution_count": 51,
   "id": "246eb5e0",
   "metadata": {},
   "outputs": [
    {
     "name": "stdout",
     "output_type": "stream",
     "text": [
      "\\begin{tabular}{ll}\n",
      "\\toprule\n",
      "Distanza &   Conteggi \\\\\n",
      "\\midrule\n",
      " 1.0±0.1 & 282524±532 \\\\\n",
      " 2.0±0.1 & 280280±529 \\\\\n",
      " 3.0±0.1 & 276129±525 \\\\\n",
      " 4.0±0.1 & 274356±524 \\\\\n",
      " 5.0±0.1 & 273017±523 \\\\\n",
      " 6.0±0.1 & 271308±521 \\\\\n",
      " 7.0±0.1 & 268373±518 \\\\\n",
      " 8.0±0.1 & 263914±514 \\\\\n",
      " 9.0±0.1 & 259749±510 \\\\\n",
      "10.0±0.1 & 253269±503 \\\\\n",
      "11.0±0.1 & 249926±500 \\\\\n",
      "12.0±0.1 & 243411±493 \\\\\n",
      "13.0±0.1 & 233332±483 \\\\\n",
      "14.0±0.1 & 227186±477 \\\\\n",
      "15.0±0.1 & 215597±464 \\\\\n",
      "\\bottomrule\n",
      "\\end{tabular}\n",
      "\n"
     ]
    }
   ],
   "source": [
    "df_dist_print=df_dist.copy()\n",
    "df_dist_print[\"Distanza\"] = df_dist[\"Distanza\"].astype(float).round(0).astype(str) + '±' + df_dist[\"err_ang\"].astype(str)\n",
    "df_dist_print['Conteggi']=df_dist[\"Conteggi\"].astype(str) + '±' + df_dist[\"err_cont\"].round(0).astype(int).astype(str)\n",
    "df_dist_print.drop(['err_ang','err_cont'],axis=1,inplace=True)\n",
    "print(df_dist_print.to_latex(index=False))"
   ]
  }
 ],
 "metadata": {
  "kernelspec": {
   "display_name": "Python 3 (ipykernel)",
   "language": "python",
   "name": "python3"
  },
  "language_info": {
   "codemirror_mode": {
    "name": "ipython",
    "version": 3
   },
   "file_extension": ".py",
   "mimetype": "text/x-python",
   "name": "python",
   "nbconvert_exporter": "python",
   "pygments_lexer": "ipython3",
   "version": "3.9.4"
  }
 },
 "nbformat": 4,
 "nbformat_minor": 5
}
